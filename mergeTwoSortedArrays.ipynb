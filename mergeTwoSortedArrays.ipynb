{
 "cells": [
  {
   "cell_type": "code",
   "execution_count": 3,
   "id": "429d85ed",
   "metadata": {},
   "outputs": [
    {
     "name": "stdout",
     "output_type": "stream",
     "text": [
      "[1, 2, 3, 4, 6, 7, 8, 9, 10]\n"
     ]
    }
   ],
   "source": [
    "def mergeSortedArrays(arr1,arr2):\n",
    "    i=0\n",
    "    j=0\n",
    "    arr=[]\n",
    "    while i<len(arr1) and j<len(arr2):\n",
    "        if arr1[i]<arr2[j]:\n",
    "            arr.append(arr1[i])\n",
    "            i+=1\n",
    "        else:\n",
    "            arr.append(arr2[j])\n",
    "            j+=1\n",
    "    while(i<len(arr1)):\n",
    "        arr.append(arr1[i])\n",
    "        i+=1\n",
    "    while(j<len(arr2)):\n",
    "        arr.append(arr2[j])\n",
    "        j+=1\n",
    "    return arr\n",
    "arr1=[1,4,9,10]\n",
    "arr2=[2,3,6,7,8]\n",
    "arr=mergeSortedArrays(arr1,arr2)\n",
    "print(arr)"
   ]
  },
  {
   "cell_type": "code",
   "execution_count": 7,
   "id": "c354818a",
   "metadata": {},
   "outputs": [
    {
     "name": "stdout",
     "output_type": "stream",
     "text": [
      "[1, 2, 3, 4, 6, 7, 8, 9, 10]\n"
     ]
    }
   ],
   "source": [
    "def mergeSortedArrays(arr1,arr2):\n",
    "    i=0\n",
    "    j=0\n",
    "    k=0\n",
    "    arr=[None]*(len(arr1)+len(arr2))\n",
    "    while i<len(arr1) and j<len(arr2):\n",
    "        if arr1[i]<arr2[j]:\n",
    "            arr[k]=arr1[i]\n",
    "            i+=1\n",
    "        else:\n",
    "            arr[k]=arr2[j]\n",
    "            j+=1\n",
    "        k+=1\n",
    "    while(i<len(arr1)):\n",
    "        arr[k]=arr1[i]\n",
    "        i+=1\n",
    "        k+=1\n",
    "    while(j<len(arr2)):\n",
    "        arr[k]=arr2[j]\n",
    "        j+=1\n",
    "        k+=1\n",
    "    return arr\n",
    "arr1=[1,4,9,10]\n",
    "arr2=[2,3,6,7,8]\n",
    "arr=mergeSortedArrays(arr1,arr2)\n",
    "print(arr)"
   ]
  },
  {
   "cell_type": "code",
   "execution_count": null,
   "id": "cd883fb9",
   "metadata": {},
   "outputs": [],
   "source": []
  }
 ],
 "metadata": {
  "kernelspec": {
   "display_name": "Python 3 (ipykernel)",
   "language": "python",
   "name": "python3"
  },
  "language_info": {
   "codemirror_mode": {
    "name": "ipython",
    "version": 3
   },
   "file_extension": ".py",
   "mimetype": "text/x-python",
   "name": "python",
   "nbconvert_exporter": "python",
   "pygments_lexer": "ipython3",
   "version": "3.9.7"
  }
 },
 "nbformat": 4,
 "nbformat_minor": 5
}
