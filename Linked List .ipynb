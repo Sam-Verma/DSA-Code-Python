{
 "cells": [
  {
   "cell_type": "code",
   "execution_count": 26,
   "id": "b73ca9e8",
   "metadata": {},
   "outputs": [],
   "source": [
    "class Node():\n",
    "    def __init__(self,data=None,next=None):\n",
    "        self.data = data\n",
    "        self.next = next\n",
    "    \n",
    "class LinkedList():\n",
    "    def __init__(self):\n",
    "        self.head = None\n",
    "    \n",
    "    def deletefirst(self):\n",
    "        if self.head == None:\n",
    "            print(\"Linked List is Empty\")\n",
    "        else:\n",
    "            self.head=self.head.next\n",
    "    \n",
    "    def inset_at_begin(self,data):\n",
    "        node1 = Node(data,self.head)\n",
    "        self.head=node1\n",
    "    \n",
    "    def insertatlast(self,value):\n",
    "        newnode = Node(value)\n",
    "        if self.head == None:\n",
    "            self.head = newnode\n",
    "        else:\n",
    "            temp = self.head\n",
    "            while temp.next != None:\n",
    "                temp = temp.next\n",
    "            temp.next=newnode\n",
    "    \n",
    "    def length(self):\n",
    "        count=0\n",
    "        while self.head!=None:\n",
    "            count+=1\n",
    "            self.head=self.head.next\n",
    "        return count\n",
    "    \n",
    "    def insertatith(self,i,value):\n",
    "        if i<0 or i>length(head):\n",
    "            return head\n",
    "        else:\n",
    "            newnode=Node(value)\n",
    "            count=0\n",
    "            temp=self.head\n",
    "            \n",
    "            while count<i:\n",
    "                temp = temp.next\n",
    "                count+=1\n",
    "            temp = newnode\n",
    "            newnode.next=\n",
    "    def printLL(self):\n",
    "        if self.head is None:\n",
    "            print(\"Linked List is Empty\")\n",
    "            return\n",
    "        \n",
    "        itr = self.head\n",
    "        llstr = \" \"\n",
    "        while itr:\n",
    "            llstr += str(itr.data) + '-->'\n",
    "            itr = itr.next\n",
    "        print(llstr)"
   ]
  },
  {
   "cell_type": "code",
   "execution_count": 28,
   "id": "579e84bd",
   "metadata": {},
   "outputs": [
    {
     "name": "stdout",
     "output_type": "stream",
     "text": [
      " 45-->25-->65-->64-->97-->\n",
      " 21-->45-->25-->65-->64-->97-->\n",
      " 45-->25-->65-->64-->97-->\n",
      "5\n"
     ]
    }
   ],
   "source": [
    "mylist = LinkedList()\n",
    "mylist.insertatlast(45)\n",
    "mylist.insertatlast(25)\n",
    "mylist.insertatlast(65)\n",
    "mylist.insertatlast(64)\n",
    "mylist.insertatlast(97)\n",
    "mylist.printLL()\n",
    "mylist.inset_at_begin(21)\n",
    "mylist.printLL()\n",
    "mylist.deletefirst()\n",
    "mylist.printLL()\n",
    "print(mylist.length())"
   ]
  },
  {
   "cell_type": "code",
   "execution_count": null,
   "id": "685a7a84",
   "metadata": {},
   "outputs": [],
   "source": []
  }
 ],
 "metadata": {
  "kernelspec": {
   "display_name": "Python 3 (ipykernel)",
   "language": "python",
   "name": "python3"
  },
  "language_info": {
   "codemirror_mode": {
    "name": "ipython",
    "version": 3
   },
   "file_extension": ".py",
   "mimetype": "text/x-python",
   "name": "python",
   "nbconvert_exporter": "python",
   "pygments_lexer": "ipython3",
   "version": "3.9.7"
  }
 },
 "nbformat": 4,
 "nbformat_minor": 5
}
