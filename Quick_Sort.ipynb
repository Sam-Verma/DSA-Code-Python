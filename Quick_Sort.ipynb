{
 "cells": [
  {
   "cell_type": "code",
   "execution_count": 5,
   "id": "e0713f35",
   "metadata": {},
   "outputs": [
    {
     "name": "stdout",
     "output_type": "stream",
     "text": [
      "4 1 2 6 3\n"
     ]
    }
   ],
   "source": [
    "class Solution:\n",
    "    #Function to sort a list using quick sort algorithm.\n",
    "    def quickSort(self,arr,low,high):\n",
    "        # code here\n",
    "        if low<high:\n",
    "            pivot=self.partition(arr,low,high)\n",
    "            self.quickSort(arr,low,pivot-1)\n",
    "            self.quickSort(arr,pivot+1,high)\n",
    "    \n",
    "    def partition(self,arr,low,high):\n",
    "        # code here\n",
    "        pivot=arr[low]\n",
    "        \n",
    "        # Kitne ele pivot se choote hai\n",
    "        cnt=0\n",
    "        for i in range(low+1,high+1):\n",
    "            if arr[i]<=pivot:\n",
    "                cnt+=1\n",
    "        \n",
    "        pivotIdx = low+cnt\n",
    "        arr[pivotIdx],arr[low]=arr[low],arr[pivotIdx]\n",
    "        \n",
    "        i,j=low,high\n",
    "        while i<pivotIdx and j>pivotIdx:\n",
    "            while arr[i]<=arr[pivotIdx]:\n",
    "                i+=1\n",
    "            while arr[j]>arr[pivotIdx]:\n",
    "                j-=1\n",
    "            \n",
    "            if i<pivotIdx and j>pivotIdx:\n",
    "                arr[i],arr[j]=arr[j],arr[i]\n",
    "        \n",
    "        return pivotIdx\n",
    "\n",
    "arr=list(map(int,input().split()))\n",
    "Solution().quickSort(arr,0,len(arr)-1)"
   ]
  },
  {
   "cell_type": "code",
   "execution_count": null,
   "id": "3d814e38",
   "metadata": {},
   "outputs": [],
   "source": []
  }
 ],
 "metadata": {
  "kernelspec": {
   "display_name": "Python 3 (ipykernel)",
   "language": "python",
   "name": "python3"
  },
  "language_info": {
   "codemirror_mode": {
    "name": "ipython",
    "version": 3
   },
   "file_extension": ".py",
   "mimetype": "text/x-python",
   "name": "python",
   "nbconvert_exporter": "python",
   "pygments_lexer": "ipython3",
   "version": "3.9.7"
  }
 },
 "nbformat": 4,
 "nbformat_minor": 5
}
