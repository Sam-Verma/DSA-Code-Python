{
 "cells": [
  {
   "cell_type": "code",
   "execution_count": 66,
   "id": "ce23a3a6",
   "metadata": {},
   "outputs": [],
   "source": [
    "class complex():\n",
    "    def __init__(self,real=0,imaginary=0):\n",
    "        \n",
    "        self.real=real\n",
    "        self.imaginary=imaginary\n",
    "        \n",
    "    def print(self):\n",
    "        if self.real==0:\n",
    "            print(self.imaginary)\n",
    "        elif self.imaginary==0:\n",
    "            print(self.real)\n",
    "        else:\n",
    "            print(self.real,end=' + i')\n",
    "            print(self.imaginary)\n",
    "            \n",
    "    def add(self,number2):\n",
    "        new_real=self.real+number2.real\n",
    "        new_imagi=self.imaginary+number2.imaginary\n",
    "        self.real=new_real\n",
    "        self.imaginary=new_imagi\n",
    "        \n",
    "    def mul(self,number2):\n",
    "        new_real=(self.real*number2.real) - (self.imaginary*number2.imaginary)\n",
    "        new_imagi=(self.real*number2.imaginary) + (number2.real*self.imaginary)\n",
    "        self.real=new_real\n",
    "        self.imagianry=new_imagi"
   ]
  },
  {
   "cell_type": "code",
   "execution_count": 41,
   "id": "e27544b8",
   "metadata": {},
   "outputs": [],
   "source": [
    "n1=complex(0,3)"
   ]
  },
  {
   "cell_type": "code",
   "execution_count": 67,
   "id": "f2e51eab",
   "metadata": {},
   "outputs": [],
   "source": [
    "n1=complex(1,3)\n",
    "n2=complex(4,5)"
   ]
  },
  {
   "cell_type": "code",
   "execution_count": 55,
   "id": "c6e82bf8",
   "metadata": {},
   "outputs": [],
   "source": [
    "n1.add(n2)"
   ]
  },
  {
   "cell_type": "code",
   "execution_count": 68,
   "id": "758da890",
   "metadata": {},
   "outputs": [],
   "source": [
    "n1.mul(n2)"
   ]
  },
  {
   "cell_type": "code",
   "execution_count": 69,
   "id": "2789b190",
   "metadata": {},
   "outputs": [
    {
     "name": "stdout",
     "output_type": "stream",
     "text": [
      "-11 + i3\n"
     ]
    }
   ],
   "source": [
    "n1.print()"
   ]
  }
 ],
 "metadata": {
  "kernelspec": {
   "display_name": "Python 3 (ipykernel)",
   "language": "python",
   "name": "python3"
  },
  "language_info": {
   "codemirror_mode": {
    "name": "ipython",
    "version": 3
   },
   "file_extension": ".py",
   "mimetype": "text/x-python",
   "name": "python",
   "nbconvert_exporter": "python",
   "pygments_lexer": "ipython3",
   "version": "3.9.7"
  }
 },
 "nbformat": 4,
 "nbformat_minor": 5
}
