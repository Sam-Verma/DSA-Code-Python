{
 "cells": [
  {
   "cell_type": "code",
   "execution_count": 1,
   "id": "f4ce4ab1",
   "metadata": {},
   "outputs": [],
   "source": [
    "def fac(n):\n",
    "    if n == 0:\n",
    "        return 1\n",
    "    return n*fac(n-1)"
   ]
  },
  {
   "cell_type": "code",
   "execution_count": 2,
   "id": "76a3ea48",
   "metadata": {},
   "outputs": [],
   "source": [
    "import sys \n",
    "sys.setrecursionlimit(3000)"
   ]
  },
  {
   "cell_type": "code",
   "execution_count": null,
   "id": "0337f57a",
   "metadata": {},
   "outputs": [],
   "source": [
    "n = int(input())\n",
    "fac(n)"
   ]
  },
  {
   "cell_type": "code",
   "execution_count": 10,
   "id": "f9a7d09e",
   "metadata": {},
   "outputs": [
    {
     "name": "stdout",
     "output_type": "stream",
     "text": [
      "5\n"
     ]
    },
    {
     "data": {
      "text/plain": [
       "15"
      ]
     },
     "execution_count": 10,
     "metadata": {},
     "output_type": "execute_result"
    }
   ],
   "source": [
    "def sum_n(n):\n",
    "    if n==0:\n",
    "        return 0\n",
    "    smallout = sum_n(n-1)\n",
    "    output=smallout + n\n",
    "    return output\n",
    "\n",
    "n=int(input())\n",
    "sum_n(n)"
   ]
  },
  {
   "cell_type": "code",
   "execution_count": 3,
   "id": "8878dbe2",
   "metadata": {},
   "outputs": [],
   "source": [
    "def print1ton(n):\n",
    "    if n==0:\n",
    "        return\n",
    "    print1ton(n-1)\n",
    "    print(n)\n",
    "    return"
   ]
  },
  {
   "cell_type": "code",
   "execution_count": 4,
   "id": "00125cd4",
   "metadata": {},
   "outputs": [
    {
     "name": "stdout",
     "output_type": "stream",
     "text": [
      "1\n",
      "2\n",
      "3\n",
      "4\n",
      "5\n",
      "6\n",
      "7\n",
      "8\n",
      "9\n",
      "10\n"
     ]
    }
   ],
   "source": [
    "print1ton(10)"
   ]
  },
  {
   "cell_type": "code",
   "execution_count": 5,
   "id": "0cf9ecc4",
   "metadata": {},
   "outputs": [],
   "source": [
    "def print1ton(n):\n",
    "    if n==0:\n",
    "        return\n",
    "    print(n)\n",
    "    print1ton(n-1) \n",
    "    return"
   ]
  },
  {
   "cell_type": "code",
   "execution_count": 6,
   "id": "70f30bd5",
   "metadata": {},
   "outputs": [
    {
     "name": "stdout",
     "output_type": "stream",
     "text": [
      "10\n",
      "9\n",
      "8\n",
      "7\n",
      "6\n",
      "5\n",
      "4\n",
      "3\n",
      "2\n",
      "1\n"
     ]
    }
   ],
   "source": [
    "print1ton(10)"
   ]
  },
  {
   "cell_type": "code",
   "execution_count": 5,
   "id": "61d9d11e",
   "metadata": {},
   "outputs": [],
   "source": [
    "def fabo(n):\n",
    "    if n==1 or n==2:\n",
    "        return 1\n",
    "    fab =fabo(n-1)+fabo(n-2)\n",
    "    return fab"
   ]
  },
  {
   "cell_type": "code",
   "execution_count": 6,
   "id": "b4f1fed8",
   "metadata": {},
   "outputs": [
    {
     "data": {
      "text/plain": [
       "5"
      ]
     },
     "execution_count": 6,
     "metadata": {},
     "output_type": "execute_result"
    }
   ],
   "source": [
    "fabo(5)"
   ]
  },
  {
   "cell_type": "code",
   "execution_count": 11,
   "id": "c4b5bf6f",
   "metadata": {},
   "outputs": [],
   "source": [
    "def sumarray(a):\n",
    "    l=len(a)\n",
    "    if l==0:\n",
    "        return 0\n",
    "    elif l>0:\n",
    "        sumall=sumarray(a[1:])\n",
    "        sum=a[0]+sumall\n",
    "        return sum\n"
   ]
  },
  {
   "cell_type": "code",
   "execution_count": 12,
   "id": "b477844e",
   "metadata": {},
   "outputs": [
    {
     "data": {
      "text/plain": [
       "21"
      ]
     },
     "execution_count": 12,
     "metadata": {},
     "output_type": "execute_result"
    }
   ],
   "source": [
    "a=[2,3,1,4,5,6]\n",
    "sumarray(a)"
   ]
  },
  {
   "cell_type": "code",
   "execution_count": 21,
   "id": "6867b258",
   "metadata": {},
   "outputs": [
    {
     "name": "stdout",
     "output_type": "stream",
     "text": [
      "25\n"
     ]
    },
    {
     "data": {
      "text/plain": [
       "False"
      ]
     },
     "execution_count": 21,
     "metadata": {},
     "output_type": "execute_result"
    }
   ],
   "source": [
    "def checkno(a,x,i,j):\n",
    "    if j==0:\n",
    "        return \n",
    "    elif x==a[0]:\n",
    "        return True\n",
    "    checkfor=a[1:]\n",
    "    if checkno(checkfor,x,i+1,j-1):\n",
    "        return True\n",
    "    else:\n",
    "        return False\n",
    "        \n",
    "a=[2,3,1,4,5,6]\n",
    "i=0\n",
    "j=len(a)-1\n",
    "x=int(input())\n",
    "checkno(a,x,i,j)"
   ]
  },
  {
   "cell_type": "code",
   "execution_count": 10,
   "id": "03dab1c8",
   "metadata": {},
   "outputs": [],
   "source": [
    "#Check Soring of list\n",
    "def issorted(a):\n",
    "    l=len(a)\n",
    "    if l==0 or l==1:\n",
    "        return True\n",
    "    elif a[0]>a[1]:\n",
    "        return False\n",
    "    smallersorted = a[1:]\n",
    "    issmallersorted=issorted(smallersorted)\n",
    "    if issmallersorted:\n",
    "        return True\n",
    "        "
   ]
  },
  {
   "cell_type": "code",
   "execution_count": 39,
   "id": "b3921536",
   "metadata": {},
   "outputs": [
    {
     "data": {
      "text/plain": [
       "True"
      ]
     },
     "execution_count": 39,
     "metadata": {},
     "output_type": "execute_result"
    }
   ],
   "source": [
    "def issortedbetter(a,si):\n",
    "    if si==l-1 or si==l:\n",
    "        return True\n",
    "    elif a[si]>a[si+1]:\n",
    "        return False\n",
    "    isSmallerPartSorted=issortedbetter(a,si+1)\n",
    "    return isSmallerPartSorted\n",
    "        \n",
    "a=[1,2,3,4,5,6,7,8,9]\n",
    "l=len(a)  \n",
    "issortedbetter(a,0)   "
   ]
  },
  {
   "cell_type": "code",
   "execution_count": 49,
   "id": "4415a34c",
   "metadata": {},
   "outputs": [
    {
     "data": {
      "text/plain": [
       "2"
      ]
     },
     "execution_count": 49,
     "metadata": {},
     "output_type": "execute_result"
    }
   ],
   "source": [
    "#First index of x\n",
    "def findx(a,x,si):\n",
    "    l=len(a)\n",
    "    if l==0:\n",
    "        return -1\n",
    "    elif x == a[si]:\n",
    "        return si\n",
    "    return findx(a,x,si+1)\n",
    "    \n",
    "\n",
    "\n",
    "a=[1,2,3,4,5,6,7,5,9]\n",
    "findx(a,5,0)"
   ]
  },
  {
   "cell_type": "code",
   "execution_count": 52,
   "id": "207cd972",
   "metadata": {},
   "outputs": [
    {
     "data": {
      "text/plain": [
       "7"
      ]
     },
     "execution_count": 52,
     "metadata": {},
     "output_type": "execute_result"
    }
   ],
   "source": [
    "#Last index of x\n",
    "def findx(a,x,l):\n",
    "    if l==0:\n",
    "        return -1\n",
    "    elif x == a[l-1]:\n",
    "        return l-1\n",
    "    return findx(a,x,l-1)\n",
    "    \n",
    "a=[1,2,3,4,5,6,7,5,9]\n",
    "l=len(a)\n",
    "findx(a,5,l)"
   ]
  },
  {
   "cell_type": "code",
   "execution_count": 62,
   "id": "ecd11100",
   "metadata": {},
   "outputs": [
    {
     "data": {
      "text/plain": [
       "7"
      ]
     },
     "execution_count": 62,
     "metadata": {},
     "output_type": "execute_result"
    }
   ],
   "source": [
    "def lastx(a,x):\n",
    "    l=len(a)\n",
    "    if l==0:\n",
    "        return -1\n",
    "    elif x==a[l-1]:\n",
    "        return l-1\n",
    "    newlist=a[0:l-1]\n",
    "    return lastx(newlist,x)\n",
    "\n",
    "a=[1,2,3,4,5,6,7,5,10]\n",
    "lastx(a,5)"
   ]
  },
  {
   "cell_type": "code",
   "execution_count": null,
   "id": "62d37bc9",
   "metadata": {},
   "outputs": [],
   "source": []
  }
 ],
 "metadata": {
  "kernelspec": {
   "display_name": "Python 3 (ipykernel)",
   "language": "python",
   "name": "python3"
  },
  "language_info": {
   "codemirror_mode": {
    "name": "ipython",
    "version": 3
   },
   "file_extension": ".py",
   "mimetype": "text/x-python",
   "name": "python",
   "nbconvert_exporter": "python",
   "pygments_lexer": "ipython3",
   "version": "3.9.7"
  }
 },
 "nbformat": 4,
 "nbformat_minor": 5
}
