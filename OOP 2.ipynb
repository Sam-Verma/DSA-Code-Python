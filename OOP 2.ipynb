{
 "cells": [
  {
   "cell_type": "code",
   "execution_count": 10,
   "id": "f0494119",
   "metadata": {},
   "outputs": [
    {
     "name": "stdout",
     "output_type": "stream",
     "text": [
      "blue\n",
      "350\n",
      "6\n",
      "True\n"
     ]
    }
   ],
   "source": [
    "class vehicle():\n",
    "    def __init__(self,max_speed,colour):\n",
    "        self.__max_speed=max_speed\n",
    "        self.colour=colour\n",
    "        \n",
    "    def getMaxSpeed(self):\n",
    "        return self.__max_speed\n",
    "    \n",
    "    def setMaxSpeed(self,max_speed):\n",
    "        self.__max_speed=max_speed\n",
    "        \n",
    "class car(vehicle):\n",
    "    def __init__(self,max_speed,colour,numGears,isConvertible):\n",
    "        \n",
    "        super().__init__(max_speed,colour)\n",
    "        self.numGears=numGears\n",
    "        self.isConvertible=isConvertible\n",
    "        \n",
    "    def print(self):\n",
    "        print(self.colour)\n",
    "        print(self.getMaxSpeed())\n",
    "        print(self.numGears)\n",
    "        print(self.isConvertible)\n",
    "        \n",
    "c=car(350,\"blue\",6,True)\n",
    "c.print()"
   ]
  },
  {
   "cell_type": "code",
   "execution_count": null,
   "id": "e89b27a2",
   "metadata": {},
   "outputs": [],
   "source": []
  }
 ],
 "metadata": {
  "kernelspec": {
   "display_name": "Python 3 (ipykernel)",
   "language": "python",
   "name": "python3"
  },
  "language_info": {
   "codemirror_mode": {
    "name": "ipython",
    "version": 3
   },
   "file_extension": ".py",
   "mimetype": "text/x-python",
   "name": "python",
   "nbconvert_exporter": "python",
   "pygments_lexer": "ipython3",
   "version": "3.9.7"
  }
 },
 "nbformat": 4,
 "nbformat_minor": 5
}
