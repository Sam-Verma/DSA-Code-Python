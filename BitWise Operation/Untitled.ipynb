{
 "cells": [
  {
   "cell_type": "code",
   "execution_count": 1,
   "id": "f02a8f10",
   "metadata": {},
   "outputs": [
    {
     "data": {
      "text/plain": [
       "5"
      ]
     },
     "execution_count": 1,
     "metadata": {},
     "output_type": "execute_result"
    }
   ],
   "source": [
    "13 & 5"
   ]
  },
  {
   "cell_type": "code",
   "execution_count": 13,
   "id": "dda3d792",
   "metadata": {},
   "outputs": [
    {
     "data": {
      "text/plain": [
       "'27 is odd'"
      ]
     },
     "execution_count": 13,
     "metadata": {},
     "output_type": "execute_result"
    }
   ],
   "source": [
    "def checkevenodd(num):\n",
    "    if(num%2==1):\n",
    "        return f\"{num} is odd\"\n",
    "    return print(num,\"is even\")\n",
    "\n",
    "checkevenodd(27)"
   ]
  },
  {
   "cell_type": "code",
   "execution_count": null,
   "id": "4b1a8e42",
   "metadata": {},
   "outputs": [],
   "source": []
  }
 ],
 "metadata": {
  "kernelspec": {
   "display_name": "Python 3 (ipykernel)",
   "language": "python",
   "name": "python3"
  },
  "language_info": {
   "codemirror_mode": {
    "name": "ipython",
    "version": 3
   },
   "file_extension": ".py",
   "mimetype": "text/x-python",
   "name": "python",
   "nbconvert_exporter": "python",
   "pygments_lexer": "ipython3",
   "version": "3.9.7"
  }
 },
 "nbformat": 4,
 "nbformat_minor": 5
}
