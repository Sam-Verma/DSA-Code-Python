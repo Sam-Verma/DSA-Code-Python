{
 "cells": [
  {
   "cell_type": "code",
   "execution_count": 5,
   "id": "a0e9cca0",
   "metadata": {},
   "outputs": [],
   "source": [
    "class QueueUsingArray:\n",
    "    def __init__(self):\n",
    "        self.__arr = []\n",
    "        self.__count = 0\n",
    "        self.__front = 0\n",
    "        \n",
    "    def enqueue(self,data):\n",
    "        self.__arr.append(data)\n",
    "        self.__count+=1\n",
    "    def dequeue(self):\n",
    "        if self.__count == 0:\n",
    "            return -1\n",
    "        element = self.__arr[self.__front]\n",
    "        self.__front+=1\n",
    "        self.__count-=1\n",
    "        return element \n",
    "    \n",
    "    def front(self):\n",
    "        if self.__count == 0:\n",
    "            return -1\n",
    "        return self.__arr[self.__front]\n",
    "        \n",
    "    def size(self):\n",
    "        return self.__count\n",
    "        \n",
    "    def isEmpty(self):\n",
    "        return self.size() == 0\n",
    "\n",
    "\n",
    "\n",
    "    "
   ]
  },
  {
   "cell_type": "code",
   "execution_count": 8,
   "id": "ab191bd9",
   "metadata": {},
   "outputs": [
    {
     "name": "stdout",
     "output_type": "stream",
     "text": [
      "1\n",
      "2\n",
      "3\n",
      "4\n"
     ]
    }
   ],
   "source": [
    "q = QueueUsingArray()\n",
    "q.enqueue(1)\n",
    "q.enqueue(2)\n",
    "q.enqueue(3)\n",
    "q.enqueue(4)\n",
    "while (q.isEmpty() is False):\n",
    "    print(q.front())\n",
    "    q.dequeue()"
   ]
  },
  {
   "cell_type": "code",
   "execution_count": 10,
   "id": "5db515bb",
   "metadata": {},
   "outputs": [],
   "source": [
    "class Node:\n",
    "    def __init__(self,data):\n",
    "        self.data = data\n",
    "        self.next = None\n",
    "\n",
    "class QueueUsingLL:\n",
    "    def __init__(self):\n",
    "        self.__head = None\n",
    "        self.__tail = None\n",
    "        self.__count = 0\n",
    "    \n",
    "    def enqueue(self,element):\n",
    "        newNode = Node(element)\n",
    "        if self.__head in None:\n",
    "            self.__head = newNode\n",
    "            self.__tail = newNode\n",
    "        else:\n",
    "            self.__tail.next = newNode\n",
    "        self.__tail = newNode\n",
    "        self.__count+=1\n",
    "    \n",
    "    def dequeue(self):\n",
    "        if self.__head is None:\n",
    "            print(\"Queue is Empty\")\n",
    "            return\n",
    "        data = self.__head.data\n",
    "        self.__head = sele.__head.next\n",
    "        self.__count-=1\n",
    "        return data\n",
    "    def front(self):\n",
    "        if self.__head is None:\n",
    "            print(\"Queue is Empty\")\n",
    "            return\n",
    "        data = self.__head.data\n",
    "        return data\n",
    "        \n",
    "    def size(self):\n",
    "        return self.__count\n",
    "        \n",
    "    def isEmpty(self):\n",
    "        return self.size() == 0\n",
    " "
   ]
  },
  {
   "cell_type": "code",
   "execution_count": 9,
   "id": "6cc3b888",
   "metadata": {},
   "outputs": [
    {
     "ename": "TypeError",
     "evalue": "argument of type 'NoneType' is not iterable",
     "output_type": "error",
     "traceback": [
      "\u001b[1;31m---------------------------------------------------------------------------\u001b[0m",
      "\u001b[1;31mTypeError\u001b[0m                                 Traceback (most recent call last)",
      "\u001b[1;32m~\\AppData\\Local\\Temp/ipykernel_10352/1711737044.py\u001b[0m in \u001b[0;36m<module>\u001b[1;34m\u001b[0m\n\u001b[0;32m      1\u001b[0m \u001b[0mq\u001b[0m \u001b[1;33m=\u001b[0m \u001b[0mQueueUsingLL\u001b[0m\u001b[1;33m(\u001b[0m\u001b[1;33m)\u001b[0m\u001b[1;33m\u001b[0m\u001b[1;33m\u001b[0m\u001b[0m\n\u001b[1;32m----> 2\u001b[1;33m \u001b[0mq\u001b[0m\u001b[1;33m.\u001b[0m\u001b[0menqueue\u001b[0m\u001b[1;33m(\u001b[0m\u001b[1;36m1\u001b[0m\u001b[1;33m)\u001b[0m\u001b[1;33m\u001b[0m\u001b[1;33m\u001b[0m\u001b[0m\n\u001b[0m\u001b[0;32m      3\u001b[0m \u001b[0mq\u001b[0m\u001b[1;33m.\u001b[0m\u001b[0menqueue\u001b[0m\u001b[1;33m(\u001b[0m\u001b[1;36m2\u001b[0m\u001b[1;33m)\u001b[0m\u001b[1;33m\u001b[0m\u001b[1;33m\u001b[0m\u001b[0m\n\u001b[0;32m      4\u001b[0m \u001b[0mq\u001b[0m\u001b[1;33m.\u001b[0m\u001b[0menqueue\u001b[0m\u001b[1;33m(\u001b[0m\u001b[1;36m3\u001b[0m\u001b[1;33m)\u001b[0m\u001b[1;33m\u001b[0m\u001b[1;33m\u001b[0m\u001b[0m\n\u001b[0;32m      5\u001b[0m \u001b[0mq\u001b[0m\u001b[1;33m.\u001b[0m\u001b[0menqueue\u001b[0m\u001b[1;33m(\u001b[0m\u001b[1;36m4\u001b[0m\u001b[1;33m)\u001b[0m\u001b[1;33m\u001b[0m\u001b[1;33m\u001b[0m\u001b[0m\n",
      "\u001b[1;32m~\\AppData\\Local\\Temp/ipykernel_10352/3285410023.py\u001b[0m in \u001b[0;36menqueue\u001b[1;34m(self, element)\u001b[0m\n\u001b[0;32m     12\u001b[0m     \u001b[1;32mdef\u001b[0m \u001b[0menqueue\u001b[0m\u001b[1;33m(\u001b[0m\u001b[0mself\u001b[0m\u001b[1;33m,\u001b[0m\u001b[0melement\u001b[0m\u001b[1;33m)\u001b[0m\u001b[1;33m:\u001b[0m\u001b[1;33m\u001b[0m\u001b[1;33m\u001b[0m\u001b[0m\n\u001b[0;32m     13\u001b[0m         \u001b[0mnewNode\u001b[0m \u001b[1;33m=\u001b[0m \u001b[0mNode\u001b[0m\u001b[1;33m(\u001b[0m\u001b[0melement\u001b[0m\u001b[1;33m)\u001b[0m\u001b[1;33m\u001b[0m\u001b[1;33m\u001b[0m\u001b[0m\n\u001b[1;32m---> 14\u001b[1;33m         \u001b[1;32mif\u001b[0m \u001b[0mself\u001b[0m\u001b[1;33m.\u001b[0m\u001b[0m__head\u001b[0m \u001b[1;32min\u001b[0m \u001b[1;32mNone\u001b[0m\u001b[1;33m:\u001b[0m\u001b[1;33m\u001b[0m\u001b[1;33m\u001b[0m\u001b[0m\n\u001b[0m\u001b[0;32m     15\u001b[0m             \u001b[0mself\u001b[0m\u001b[1;33m.\u001b[0m\u001b[0m__head\u001b[0m \u001b[1;33m=\u001b[0m \u001b[0mnewNode\u001b[0m\u001b[1;33m\u001b[0m\u001b[1;33m\u001b[0m\u001b[0m\n\u001b[0;32m     16\u001b[0m             \u001b[0mself\u001b[0m\u001b[1;33m.\u001b[0m\u001b[0m__tail\u001b[0m \u001b[1;33m=\u001b[0m \u001b[0mnewNode\u001b[0m\u001b[1;33m\u001b[0m\u001b[1;33m\u001b[0m\u001b[0m\n",
      "\u001b[1;31mTypeError\u001b[0m: argument of type 'NoneType' is not iterable"
     ]
    }
   ],
   "source": [
    "q = QueueUsingLL()\n",
    "q.enqueue(1)\n",
    "q.enqueue(2)\n",
    "q.enqueue(3)\n",
    "q.enqueue(4)\n",
    "while (q.isEmpty() is False):\n",
    "    print(q.front())\n",
    "    q.dequeue()"
   ]
  },
  {
   "cell_type": "code",
   "execution_count": 48,
   "id": "bf7bfd81",
   "metadata": {},
   "outputs": [
    {
     "name": "stdout",
     "output_type": "stream",
     "text": [
      "1\n",
      "465\n",
      "5\n",
      "96\n"
     ]
    }
   ],
   "source": [
    "import queue\n",
    "\n",
    "#inbuilt queue\n",
    "q = queue.Queue()\n",
    "q.put(1)\n",
    "q.put(465)\n",
    "q.put(5)\n",
    "q.put(96)\n",
    "\n",
    "while not q.empty():\n",
    "    print(q.get())"
   ]
  },
  {
   "cell_type": "code",
   "execution_count": 3,
   "id": "5fd012de",
   "metadata": {},
   "outputs": [
    {
     "name": "stdout",
     "output_type": "stream",
     "text": [
      "96\n",
      "5\n",
      "465\n",
      "1\n"
     ]
    }
   ],
   "source": [
    "q = queue.LifoQueue()\n",
    "q.put(1)\n",
    "q.put(465)\n",
    "q.put(5)\n",
    "q.put(96)\n",
    "\n",
    "while not q.empty():\n",
    "    print(q.get())"
   ]
  },
  {
   "cell_type": "code",
   "execution_count": 40,
   "id": "78c5778f",
   "metadata": {},
   "outputs": [],
   "source": [
    "# Implement Queue Using 2 Stack\n",
    "\n",
    "class QueueUsing2Stack:\n",
    "    def __init__(self):\n",
    "        self.__S1 = []\n",
    "        self.__S2 = []\n",
    "    \n",
    "    def enqueue(self,element):\n",
    "        #[O(1)]\n",
    "        self.__S1.append(element)\n",
    "        return\n",
    "        \n",
    "    def dequeue(self):\n",
    "        #O[(n)]\n",
    "        if len(self.__S1) == 0:\n",
    "            return -1\n",
    "        while len(self.__S1) > 1:  \n",
    "            self.__S2.append(self.__S1.pop())\n",
    "        ele = self.__S1.pop()\n",
    "        while len(self.__S2) != 0:\n",
    "            self.__S1.append(self.__S2.pop())\n",
    "        return ele\n",
    "        \n",
    "    def front(self):\n",
    "        return self.__S1[0]\n",
    "        \n",
    "    def size(self):\n",
    "        return len(self.__S1)\n",
    "        \n",
    "    def isEmpty(self):\n",
    "        return self.size() == 0   \n",
    "    "
   ]
  },
  {
   "cell_type": "code",
   "execution_count": 38,
   "id": "6cf6983c",
   "metadata": {},
   "outputs": [],
   "source": [
    "class QueueUsing2Stack:\n",
    "    def __init__(self):\n",
    "        self.__S1 = []\n",
    "        self.__S2 = []\n",
    "    \n",
    "    def enqueue(self,data):\n",
    "        #[O(n)]\n",
    "        while(len(self.__S1) != 0):\n",
    "            self.__S2.append(self.__S1.pop())\n",
    "        self.__S1.append(data)\n",
    "        while(len(self.__S2) != 0):\n",
    "            self.__S1.append(self.__S2.pop())\n",
    "        return\n",
    "    def dequeue(self):\n",
    "        if len(self.__S1) == 0:\n",
    "            return -1\n",
    "        return self.__S1.pop()\n",
    "        \n",
    "    def front(self):\n",
    "        return self.__S1[-1]\n",
    "        \n",
    "    def size(self):\n",
    "        return len(self.__S1)\n",
    "        \n",
    "    def isEmpty(self):\n",
    "        return self.size() == 0   \n",
    "    "
   ]
  },
  {
   "cell_type": "code",
   "execution_count": 41,
   "id": "be3dcc2b",
   "metadata": {},
   "outputs": [
    {
     "name": "stdout",
     "output_type": "stream",
     "text": [
      "1\n",
      "2\n",
      "3\n",
      "4\n"
     ]
    }
   ],
   "source": [
    "q = QueueUsing2Stack()\n",
    "q.enqueue(1)\n",
    "q.enqueue(2)\n",
    "q.enqueue(3)\n",
    "q.enqueue(4)\n",
    "while (q.isEmpty() is False):\n",
    "    print(q.front())\n",
    "    q.dequeue()"
   ]
  },
  {
   "cell_type": "code",
   "execution_count": null,
   "id": "16ecfaff",
   "metadata": {},
   "outputs": [],
   "source": [
    "# Reverse a Queue Using Stack\n",
    "from queue import Queue\n",
    "\n",
    "    \n",
    "def rev(q):\n",
    "    #add code here\n",
    "    stack = []\n",
    "    while not q.empty():\n",
    "        stack.append(q.get()) \n",
    "    while len(stack) != 0:\n",
    "        q.put(stack.pop())\n",
    "    return q\n",
    "        \n",
    "\n",
    "        "
   ]
  },
  {
   "cell_type": "code",
   "execution_count": null,
   "id": "4e56d811",
   "metadata": {},
   "outputs": [],
   "source": [
    "def revKth(q,k):\n",
    "    stack = []\n",
    "    while not q.empty():\n",
    "        stack.append(q.get()) \n",
    "    while len(stack) != 0:\n",
    "        "
   ]
  },
  {
   "cell_type": "code",
   "execution_count": null,
   "id": "79598b98",
   "metadata": {},
   "outputs": [],
   "source": []
  }
 ],
 "metadata": {
  "kernelspec": {
   "display_name": "Python 3 (ipykernel)",
   "language": "python",
   "name": "python3"
  },
  "language_info": {
   "codemirror_mode": {
    "name": "ipython",
    "version": 3
   },
   "file_extension": ".py",
   "mimetype": "text/x-python",
   "name": "python",
   "nbconvert_exporter": "python",
   "pygments_lexer": "ipython3",
   "version": "3.9.7"
  }
 },
 "nbformat": 4,
 "nbformat_minor": 5
}
