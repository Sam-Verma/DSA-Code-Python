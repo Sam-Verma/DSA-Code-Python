{
 "cells": [
  {
   "cell_type": "code",
   "execution_count": 1,
   "id": "70b0537c",
   "metadata": {},
   "outputs": [
    {
     "name": "stdout",
     "output_type": "stream",
     "text": [
      "5\n",
      "x\n",
      "xx\n",
      "xxx\n",
      "xxxx\n",
      "xxxxx\n"
     ]
    }
   ],
   "source": [
    "n = int(input())\n",
    "i=1\n",
    "while i<=n:\n",
    "    j=1\n",
    "    while j<=i:\n",
    "        print(\"x\",end=\"\")\n",
    "        j+=1\n",
    "        \n",
    "    print()\n",
    "    i+=1"
   ]
  },
  {
   "cell_type": "code",
   "execution_count": 7,
   "id": "e3793b29",
   "metadata": {
    "scrolled": true
   },
   "outputs": [
    {
     "name": "stdout",
     "output_type": "stream",
     "text": [
      "5\n",
      "*****\n",
      "****\n",
      "***\n",
      "**\n",
      "*\n"
     ]
    }
   ],
   "source": [
    "n = int(input())\n",
    "i=1\n",
    "while i<=n:\n",
    "    j=1\n",
    "    while j<=n-i+1:\n",
    "        print(\"*\",end=\"\")\n",
    "        j+=1\n",
    "    print()\n",
    "    i+=1"
   ]
  },
  {
   "cell_type": "code",
   "execution_count": 14,
   "id": "9dd2741b",
   "metadata": {},
   "outputs": [
    {
     "name": "stdout",
     "output_type": "stream",
     "text": [
      "5\n",
      "11111\n",
      "2222\n",
      "333\n",
      "44\n",
      "5\n"
     ]
    }
   ],
   "source": [
    "n = int(input())\n",
    "i=1\n",
    "while i<=n:\n",
    "    j=1\n",
    "    \n",
    "    while j<=n-i+1:\n",
    "        print(i,end=\"\")\n",
    "        j+=1\n",
    "    print()\n",
    "    i+=1"
   ]
  },
  {
   "cell_type": "code",
   "execution_count": 29,
   "id": "179bd33a",
   "metadata": {},
   "outputs": [
    {
     "name": "stdout",
     "output_type": "stream",
     "text": [
      "5\n",
      "    *\n",
      "   **\n",
      "  ***\n",
      " ****\n",
      "*****\n"
     ]
    }
   ],
   "source": [
    "n = int(input())\n",
    "i=1\n",
    "while i<=n:\n",
    "    j=1\n",
    "    while j<=n-i:\n",
    "        print(\" \",end=\"\")\n",
    "        j+=1\n",
    "    star=1    \n",
    "    while star<=i:\n",
    "        print(\"*\",end=\"\")\n",
    "        star+=1\n",
    "    print()\n",
    "    i+=1"
   ]
  },
  {
   "cell_type": "code",
   "execution_count": 31,
   "id": "5e3d1ae1",
   "metadata": {},
   "outputs": [
    {
     "name": "stdout",
     "output_type": "stream",
     "text": [
      "4\n",
      "   1\n",
      "  12\n",
      " 123\n",
      "1234\n"
     ]
    }
   ],
   "source": [
    "n = int(input())\n",
    "i=1\n",
    "while i<=n:\n",
    "    j=1\n",
    "    while j<=n-i:\n",
    "        print(\" \",end=\"\")\n",
    "        j+=1\n",
    "    num=1    \n",
    "    while num<=i:\n",
    "        print(num,end=\"\")\n",
    "        num+=1\n",
    "    print()\n",
    "    i+=1"
   ]
  },
  {
   "cell_type": "code",
   "execution_count": 52,
   "id": "834e5c26",
   "metadata": {},
   "outputs": [
    {
     "name": "stdout",
     "output_type": "stream",
     "text": [
      "4\n",
      "   1\n",
      "  121\n",
      " 12312\n",
      "1234123\n"
     ]
    }
   ],
   "source": [
    "n = int(input())\n",
    "i=1\n",
    "while i<=n:\n",
    "    j=1\n",
    "    while j<=n-i:\n",
    "        print(\" \",end=\"\")\n",
    "        j+=1\n",
    "    num=1    \n",
    "    while num<=i:\n",
    "        print(num,end=\"\")\n",
    "        num+=1\n",
    "    num2=1\n",
    "    while num2<=i-1:\n",
    "        print(num2,end=\"\")\n",
    "        num2+=1    \n",
    "    print()\n",
    "    i+=1"
   ]
  },
  {
   "cell_type": "code",
   "execution_count": 72,
   "id": "913af1a6",
   "metadata": {},
   "outputs": [
    {
     "name": "stdout",
     "output_type": "stream",
     "text": [
      "4\n",
      "   1\n",
      "  232\n",
      " 34534\n",
      "4567456\n"
     ]
    }
   ],
   "source": [
    "n = int(input())\n",
    "i=1\n",
    "while i<=n:\n",
    "    space=1\n",
    "    while space<=n-i:\n",
    "        print(\" \",end=\"\")\n",
    "        space+=1\n",
    "    num=1    \n",
    "    while num<=i:\n",
    "        print(num+i-1,end=\"\")\n",
    "        num+=1\n",
    "    n2=1\n",
    "    while n2<=i-1:\n",
    "        print(n2+i-1,end=\"\")\n",
    "        n2+=1\n",
    "    print()\n",
    "    i+=1"
   ]
  }
 ],
 "metadata": {
  "kernelspec": {
   "display_name": "Python 3 (ipykernel)",
   "language": "python",
   "name": "python3"
  },
  "language_info": {
   "codemirror_mode": {
    "name": "ipython",
    "version": 3
   },
   "file_extension": ".py",
   "mimetype": "text/x-python",
   "name": "python",
   "nbconvert_exporter": "python",
   "pygments_lexer": "ipython3",
   "version": "3.9.7"
  }
 },
 "nbformat": 4,
 "nbformat_minor": 5
}
