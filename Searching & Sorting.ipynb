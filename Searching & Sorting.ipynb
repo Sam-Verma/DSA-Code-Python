{
 "cells": [
  {
   "cell_type": "code",
   "execution_count": 5,
   "id": "a7cbd626",
   "metadata": {},
   "outputs": [
    {
     "name": "stdout",
     "output_type": "stream",
     "text": [
      "9\n"
     ]
    }
   ],
   "source": [
    "def linearSearch(arr,ele):\n",
    "    for i in range(len(arr)):\n",
    "        if arr[i]==ele:\n",
    "            return i\n",
    "    return -1\n",
    "\n",
    "\n",
    "arr=[1,4,5,7,8,9,12,36,58,78,98]\n",
    "index = linearSearch(arr,78)\n",
    "print(index)"
   ]
  },
  {
   "cell_type": "code",
   "execution_count": 2,
   "id": "7b8bfd80",
   "metadata": {},
   "outputs": [
    {
     "name": "stdout",
     "output_type": "stream",
     "text": [
      "7\n"
     ]
    }
   ],
   "source": [
    "def binarySearch(arr,ele):\n",
    "    start=0\n",
    "    end=len(arr)-1\n",
    "    while(start<=end):\n",
    "        mid = (start+end)//2\n",
    "        if(arr[mid]==ele):\n",
    "            return mid\n",
    "        elif(arr[mid]<ele):\n",
    "            start=mid+1\n",
    "        else:\n",
    "            end=mid-1\n",
    "    return -1\n",
    "\n",
    "arr=[1,4,5,7,8,9,12,36,58,78,98]\n",
    "index = binarySearch(arr,36)\n",
    "print(index)\n",
    "            "
   ]
  },
  {
   "cell_type": "code",
   "execution_count": 3,
   "id": "dd8e0d85",
   "metadata": {},
   "outputs": [
    {
     "name": "stdout",
     "output_type": "stream",
     "text": [
      "[0, 1, 2, 3, 4, 6, 8]\n"
     ]
    }
   ],
   "source": [
    "def selectionsort(arr):\n",
    "    length = len(arr)\n",
    "    for i in range(length-1):\n",
    "        minIndex = i\n",
    "        for j in range(i+1,length):\n",
    "            if(arr[j] < arr[minIndex]):\n",
    "                minIndex = j\n",
    "        arr[i],arr[minIndex]=arr[minIndex],arr[i]\n",
    "                \n",
    "arr = [1,3,2,4,0,6,8]\n",
    "selectionsort(arr)\n",
    "print(arr)\n",
    "\n"
   ]
  },
  {
   "cell_type": "code",
   "execution_count": 4,
   "id": "0e8fd646",
   "metadata": {},
   "outputs": [
    {
     "name": "stdout",
     "output_type": "stream",
     "text": [
      "[0, 1, 2, 3, 4, 6, 8]\n"
     ]
    }
   ],
   "source": [
    "def bubblesort(arr):\n",
    "    for i in range(len(arr)-1):\n",
    "        for j in range(len(arr)-1-i):\n",
    "            if(arr[j]>arr[j+1]):\n",
    "                arr[j],arr[j+1]=arr[j+1],arr[j]\n",
    "                \n",
    "arr = [1,3,2,4,0,6,8]\n",
    "bubblesort(arr)\n",
    "print(arr)"
   ]
  },
  {
   "cell_type": "code",
   "execution_count": 7,
   "id": "7b3a2c66",
   "metadata": {},
   "outputs": [
    {
     "name": "stdout",
     "output_type": "stream",
     "text": [
      "[0, 1, 2, 3, 4, 6, 8]\n"
     ]
    }
   ],
   "source": [
    "def insertionsort(arr):\n",
    "    for i in range(1,len(arr)):\n",
    "        j=i-1\n",
    "        temp=arr[i]\n",
    "        #Shifting element till this condition holds\n",
    "        while(j>=0 and arr[j]>temp):\n",
    "            arr[j+1]=arr[j]\n",
    "            j=j-1\n",
    "        # j+1 is correct position for ith element\n",
    "        arr[j+1]=temp\n",
    "        \n",
    "arr = [1,3,2,4,0,6,8]\n",
    "insertionsort(arr)\n",
    "print(arr)"
   ]
  },
  {
   "cell_type": "code",
   "execution_count": null,
   "id": "de8aea72",
   "metadata": {},
   "outputs": [],
   "source": []
  }
 ],
 "metadata": {
  "kernelspec": {
   "display_name": "Python 3 (ipykernel)",
   "language": "python",
   "name": "python3"
  },
  "language_info": {
   "codemirror_mode": {
    "name": "ipython",
    "version": 3
   },
   "file_extension": ".py",
   "mimetype": "text/x-python",
   "name": "python",
   "nbconvert_exporter": "python",
   "pygments_lexer": "ipython3",
   "version": "3.9.7"
  }
 },
 "nbformat": 4,
 "nbformat_minor": 5
}
