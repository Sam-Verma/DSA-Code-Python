{
 "cells": [
  {
   "cell_type": "code",
   "execution_count": 2,
   "id": "0fe60210",
   "metadata": {},
   "outputs": [],
   "source": [
    "class student():\n",
    "    pass"
   ]
  },
  {
   "cell_type": "code",
   "execution_count": 4,
   "id": "0567cf6c",
   "metadata": {},
   "outputs": [
    {
     "name": "stdout",
     "output_type": "stream",
     "text": [
      "<class '__main__.student'>\n"
     ]
    }
   ],
   "source": [
    "s1=student()\n",
    "print(type(s1))"
   ]
  },
  {
   "cell_type": "code",
   "execution_count": 10,
   "id": "111a9b47",
   "metadata": {},
   "outputs": [
    {
     "name": "stdout",
     "output_type": "stream",
     "text": [
      "Name = Sam\n",
      "Roll no= 103\n",
      "Name = Sam\n",
      "Roll no= 103\n"
     ]
    }
   ],
   "source": [
    "#Self Parameter\n",
    "class Student():\n",
    "    def studentdetail(self):\n",
    "        self.name='Sam'\n",
    "        self.rollno=103\n",
    "        print('Name =',self.name)\n",
    "        print('Roll no=',self.rollno)\n",
    "    \n",
    "\n",
    "Student.studentdetail(s1)\n",
    "s1=Student()\n",
    "s1.studentdetail()"
   ]
  },
  {
   "cell_type": "code",
   "execution_count": 7,
   "id": "9b627810",
   "metadata": {},
   "outputs": [],
   "source": [
    "class Student():\n",
    "    def __init__(self):\n",
    "        self.name=''\n",
    "        self.rollno=0\n",
    "        "
   ]
  },
  {
   "cell_type": "code",
   "execution_count": 8,
   "id": "1187b053",
   "metadata": {},
   "outputs": [],
   "source": [
    "s1=Student()\n",
    "s1.name=\"sam\"\n",
    "s1.rollno=103"
   ]
  },
  {
   "cell_type": "code",
   "execution_count": 9,
   "id": "e3659d33",
   "metadata": {},
   "outputs": [
    {
     "data": {
      "text/plain": [
       "{'name': 'sam', 'rollno': 103}"
      ]
     },
     "execution_count": 9,
     "metadata": {},
     "output_type": "execute_result"
    }
   ],
   "source": [
    "s1.__dict__"
   ]
  },
  {
   "cell_type": "code",
   "execution_count": 14,
   "id": "05e189a8",
   "metadata": {},
   "outputs": [],
   "source": [
    "class Student():\n",
    "    #init method\n",
    "    def __init__(self,name,rollno):\n",
    "        self.name=name\n",
    "        self.rollno=rollno\n",
    "        \n",
    "    def printStudent(self):\n",
    "        print(\"Name is\",self.name,\"and rollno is\",self.rollno)\n",
    "        \n"
   ]
  },
  {
   "cell_type": "code",
   "execution_count": 15,
   "id": "20756d68",
   "metadata": {},
   "outputs": [
    {
     "data": {
      "text/plain": [
       "{'name': 'Shivam', 'rollno': 21}"
      ]
     },
     "execution_count": 15,
     "metadata": {},
     "output_type": "execute_result"
    }
   ],
   "source": [
    "s2=Student(\"Shivam\",21)\n",
    "s2.__dict__"
   ]
  },
  {
   "cell_type": "code",
   "execution_count": 17,
   "id": "d6d9d84b",
   "metadata": {},
   "outputs": [
    {
     "name": "stdout",
     "output_type": "stream",
     "text": [
      "Name is Shivam and rollno is 21\n",
      "Name is Shivam and rollno is 21\n"
     ]
    }
   ],
   "source": [
    "#Instance Method\n",
    "s2.printStudent()\n",
    "#Above and Below are same code\n",
    "Student.printStudent(s2)"
   ]
  },
  {
   "cell_type": "code",
   "execution_count": 95,
   "id": "45ccbeeb",
   "metadata": {},
   "outputs": [],
   "source": [
    "class fraction():\n",
    "    def __init__(self,num=0,den=1):\n",
    "        if den == 0:\n",
    "            #Error\n",
    "            den ==1\n",
    "        \n",
    "        self.num=num\n",
    "        self.den=den\n",
    "        \n",
    "    \n",
    "    def print(self):\n",
    "        if self.num == 0:\n",
    "            print(0)\n",
    "        elif self.den == 1:\n",
    "            print(self.num)\n",
    "        else:\n",
    "            print(self.num,'/',self.den)\n",
    "            \n",
    "    def simplify(self):\n",
    "        if self.num==0:\n",
    "            return 0\n",
    "        elif self.den==1:\n",
    "            return self.num\n",
    "        count=min(self.num,self.den)\n",
    "        while count>1:\n",
    "            if self.num%count==0 and self.den%count==0:\n",
    "                break\n",
    "            count-=1\n",
    "        self.num=self.num//count\n",
    "        self.den=self.den//count\n",
    "        \n",
    "    def add(self,self2):\n",
    "        new_num=self.num*self2.den + self2.num*self.den\n",
    "        new_den=self.den*self2.den\n",
    "        self.num=new_num\n",
    "        self.den=new_den\n",
    "        self.simplify()\n",
    "    \n",
    "    def multiplay(self,self2):\n",
    "        self.num=self.num*self2.num\n",
    "        self.den=self.den*self2.den\n",
    "        self.simplify()"
   ]
  },
  {
   "cell_type": "code",
   "execution_count": 43,
   "id": "10c0db1f",
   "metadata": {},
   "outputs": [],
   "source": [
    "f=fraction(2,6)"
   ]
  },
  {
   "cell_type": "code",
   "execution_count": 10,
   "id": "0ca8d6c6",
   "metadata": {},
   "outputs": [
    {
     "data": {
      "text/plain": [
       "{'num': 5, 'den': 6}"
      ]
     },
     "execution_count": 10,
     "metadata": {},
     "output_type": "execute_result"
    }
   ],
   "source": [
    "f.__dict__"
   ]
  },
  {
   "cell_type": "code",
   "execution_count": 71,
   "id": "3531a436",
   "metadata": {},
   "outputs": [],
   "source": [
    "f.simplify()"
   ]
  },
  {
   "cell_type": "code",
   "execution_count": 65,
   "id": "5500c1d5",
   "metadata": {},
   "outputs": [
    {
     "name": "stdout",
     "output_type": "stream",
     "text": [
      "1 / 3\n"
     ]
    }
   ],
   "source": [
    "f.print()"
   ]
  },
  {
   "cell_type": "code",
   "execution_count": 96,
   "id": "0cf6519c",
   "metadata": {},
   "outputs": [],
   "source": [
    "f1=fraction(4,6)\n",
    "f2=fraction(7,8)"
   ]
  },
  {
   "cell_type": "code",
   "execution_count": 91,
   "id": "ae824ca8",
   "metadata": {},
   "outputs": [
    {
     "name": "stdout",
     "output_type": "stream",
     "text": [
      "7 / 3\n"
     ]
    }
   ],
   "source": [
    "f1.add(f2)\n",
    "f1.print()"
   ]
  },
  {
   "cell_type": "code",
   "execution_count": 97,
   "id": "14a7436a",
   "metadata": {},
   "outputs": [
    {
     "name": "stdout",
     "output_type": "stream",
     "text": [
      "7 / 12\n"
     ]
    }
   ],
   "source": [
    "f1.multiplay(f2)\n",
    "f1.print()"
   ]
  }
 ],
 "metadata": {
  "kernelspec": {
   "display_name": "Python 3 (ipykernel)",
   "language": "python",
   "name": "python3"
  },
  "language_info": {
   "codemirror_mode": {
    "name": "ipython",
    "version": 3
   },
   "file_extension": ".py",
   "mimetype": "text/x-python",
   "name": "python",
   "nbconvert_exporter": "python",
   "pygments_lexer": "ipython3",
   "version": "3.9.7"
  }
 },
 "nbformat": 4,
 "nbformat_minor": 5
}
