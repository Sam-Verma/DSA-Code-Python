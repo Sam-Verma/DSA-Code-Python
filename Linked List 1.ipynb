{
 "cells": [
  {
   "cell_type": "code",
   "execution_count": 2,
   "id": "4b7e580c",
   "metadata": {},
   "outputs": [
    {
     "name": "stdout",
     "output_type": "stream",
     "text": [
      "<__main__.Node object at 0x000001E6B1D05DC0>\n",
      "12\n",
      "15\n",
      "<__main__.Node object at 0x000001E6B1D05CD0>\n",
      "<__main__.Node object at 0x000001E6B1D05CD0>\n",
      "15\n"
     ]
    }
   ],
   "source": [
    "class Node():\n",
    "    def __init__(self,data):\n",
    "        self.data = data\n",
    "        self.next = None\n",
    "\n",
    "a = Node(12)\n",
    "b = Node(15)\n",
    "a.next=b\n",
    "print(a)\n",
    "print(a.data)\n",
    "print(b.data)\n",
    "print(a.next)\n",
    "print(b)\n",
    "print(a.next.data)"
   ]
  },
  {
   "cell_type": "code",
   "execution_count": 3,
   "id": "4d80baea",
   "metadata": {},
   "outputs": [
    {
     "name": "stdout",
     "output_type": "stream",
     "text": [
      "1 2 3 4 5 -1\n",
      "1->2->3->4->5->None\n"
     ]
    }
   ],
   "source": [
    "class Node():\n",
    "    def __init__(self,data):\n",
    "        self.data = data\n",
    "        self.next = None \n",
    "\n",
    "def printLL(head):\n",
    "    while head is not None:\n",
    "        print(str(head.data) + \"->\",end=\"\")\n",
    "        head=head.next\n",
    "    print(\"None\")\n",
    "    return\n",
    "\n",
    "def takeInput():\n",
    "    \n",
    "    inputList = [int(ele) for ele in input().split()]\n",
    "    head = None\n",
    "    for currData in inputList:\n",
    "        if currData == -1:\n",
    "            break\n",
    "        \n",
    "        newNode = Node(currData)\n",
    "        if head is None:\n",
    "            head = newNode\n",
    "        else:\n",
    "            curr = head\n",
    "            while curr.next is not None:\n",
    "                curr = curr.next\n",
    "            curr.next = newNode\n",
    "    return head\n",
    "        \n",
    "head = takeInput()\n",
    "printLL(head)"
   ]
  },
  {
   "cell_type": "code",
   "execution_count": 6,
   "id": "f22df5f3",
   "metadata": {},
   "outputs": [
    {
     "name": "stdout",
     "output_type": "stream",
     "text": [
      "5 96 1 8 2 9 1 9 -1\n",
      "5->96->1->8->2->9->1->9->None\n",
      "None\n",
      "9->None\n"
     ]
    }
   ],
   "source": [
    "#Optimised \n",
    "class Node():\n",
    "    def __init__(self,data):\n",
    "        self.data = data\n",
    "        self.next = None \n",
    "\n",
    "def printLL(head):\n",
    "    while head is not None:\n",
    "        print(str(head.data) + \"->\",end=\"\")\n",
    "        head=head.next\n",
    "    print(\"None\")\n",
    "    return\n",
    "\n",
    "def length(head):\n",
    "    count=0\n",
    "    while head is not None:\n",
    "        count = count+1\n",
    "        head = head.next\n",
    "    return count\n",
    "\n",
    "def insertatI(head,i,data):\n",
    "    if i<0 or i>length(head):\n",
    "        return head\n",
    "    count = 0\n",
    "    prev = None\n",
    "    curr = head\n",
    "    while count < i:\n",
    "        prev = curr\n",
    "        curr = curr.next\n",
    "        count+=1\n",
    "    newNode = Node(data)\n",
    "    if prev is not None:\n",
    "        prev.next = newNode\n",
    "    else:\n",
    "        head = newNode\n",
    "    newNode.next = curr\n",
    "    \n",
    "def insertatIR(self,i,data):\n",
    "    newnode=Node(data)\n",
    "    if i==0:\n",
    "        newnode.next=head\n",
    "        return newnode\n",
    "    smalllist=insertatIR(head.next,i-1,data)\n",
    "def takeInput():\n",
    "    \n",
    "    inputList = [int(ele) for ele in input().split()]\n",
    "    head = None\n",
    "    tail = None\n",
    "    for currData in inputList:\n",
    "        if currData == -1:\n",
    "            break\n",
    "        \n",
    "        newNode = Node(currData)\n",
    "        if head is None:\n",
    "            head = newNode\n",
    "            tail = newNode\n",
    "        else:\n",
    "            tail.next = newNode\n",
    "            tail = newNode\n",
    "            \n",
    "    return head\n",
    "        \n",
    "head = takeInput()\n",
    "printLL(head)\n",
    "head = insertatI(head,2,6)\n",
    "printLL(head)\n",
    "head = insertatIR(head,5,9)\n",
    "printLL(head)"
   ]
  },
  {
   "cell_type": "code",
   "execution_count": 22,
   "id": "d72e5cac",
   "metadata": {},
   "outputs": [
    {
     "name": "stdout",
     "output_type": "stream",
     "text": [
      "1->4->5->6->None\n"
     ]
    }
   ],
   "source": [
    "def deleteIR(head,i):\n",
    "    if i<0:\n",
    "        return head\n",
    "    if head is None:\n",
    "        return None\n",
    "    if i==0:\n",
    "        head=head.next\n",
    "        return head\n",
    "    smallhead = deleteIR(head.next,i-1)\n",
    "    head.next = smallhead\n",
    "    return head\n",
    "\n",
    "deleteIR(head,0)\n",
    "printLL(head)"
   ]
  },
  {
   "cell_type": "code",
   "execution_count": 42,
   "id": "9e833abf",
   "metadata": {},
   "outputs": [
    {
     "data": {
      "text/plain": [
       "2"
      ]
     },
     "execution_count": 42,
     "metadata": {},
     "output_type": "execute_result"
    }
   ],
   "source": [
    "def searchNode(head,Node):\n",
    "    count=0\n",
    "    curr=head\n",
    "    if curr.data==Node:\n",
    "        return count \n",
    "    while head is not None:\n",
    "        count+=1\n",
    "        curr=curr.next\n",
    "        if curr.data==Node:\n",
    "            return count\n",
    "    return -1    \n",
    "\n",
    "searchNode(head,5)"
   ]
  }
 ],
 "metadata": {
  "kernelspec": {
   "display_name": "Python 3 (ipykernel)",
   "language": "python",
   "name": "python3"
  },
  "language_info": {
   "codemirror_mode": {
    "name": "ipython",
    "version": 3
   },
   "file_extension": ".py",
   "mimetype": "text/x-python",
   "name": "python",
   "nbconvert_exporter": "python",
   "pygments_lexer": "ipython3",
   "version": "3.9.7"
  }
 },
 "nbformat": 4,
 "nbformat_minor": 5
}
