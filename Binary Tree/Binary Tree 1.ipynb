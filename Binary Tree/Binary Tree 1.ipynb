{
 "cells": [
  {
   "cell_type": "code",
   "execution_count": 4,
   "id": "e09b32ef",
   "metadata": {},
   "outputs": [],
   "source": [
    "class BinaryTreeNode():\n",
    "    def __init__(self,data):\n",
    "        self.data=data\n",
    "        self.left=None\n",
    "        self.right=None"
   ]
  },
  {
   "cell_type": "code",
   "execution_count": 11,
   "id": "7d8e2a5c",
   "metadata": {},
   "outputs": [],
   "source": [
    "def printTree(root):\n",
    "    if root == None:\n",
    "        return\n",
    "    print(root.data)\n",
    "    printTree(root.left)\n",
    "    printTree(root.right)"
   ]
  },
  {
   "cell_type": "code",
   "execution_count": 6,
   "id": "14cf5d0c",
   "metadata": {},
   "outputs": [],
   "source": [
    "def printTreeDetailed(root):\n",
    "    if root == None:\n",
    "        return\n",
    "    print(root.data, end=\":\")\n",
    "    if root.left != None:\n",
    "        print(\"L\",root.left.data,end=\",\")\n",
    "    if root.right != None:\n",
    "        print(\"R\",root.right.data,end=\"\")\n",
    "    print()\n",
    "    printTreeDetailed(root.left)\n",
    "    printTreeDetailed(root.right)"
   ]
  },
  {
   "cell_type": "code",
   "execution_count": 7,
   "id": "d0f713a6",
   "metadata": {},
   "outputs": [],
   "source": [
    "bt1=BinaryTreeNode(5)\n",
    "bt2=BinaryTreeNode(9)\n",
    "bt3=BinaryTreeNode(4)\n",
    "bt4=BinaryTreeNode(2)\n",
    "bt5=BinaryTreeNode(3)\n",
    "bt6=BinaryTreeNode(8)"
   ]
  },
  {
   "cell_type": "code",
   "execution_count": 8,
   "id": "ea942309",
   "metadata": {},
   "outputs": [],
   "source": [
    "bt1.left=bt2\n",
    "bt1.right=bt3\n",
    "bt2.left=bt4\n",
    "bt2.right=bt5\n",
    "bt4.left=bt6"
   ]
  },
  {
   "cell_type": "code",
   "execution_count": 12,
   "id": "21ab3b54",
   "metadata": {},
   "outputs": [
    {
     "name": "stdout",
     "output_type": "stream",
     "text": [
      "5:L 9,R 4\n",
      "9:L 2,R 3\n",
      "2:L 8,\n",
      "8:\n",
      "3:\n",
      "4:\n"
     ]
    }
   ],
   "source": [
    "#printTree(bt1)\n",
    "printTreeDetailed(bt1)\n"
   ]
  },
  {
   "cell_type": "code",
   "execution_count": 167,
   "id": "57d34d01",
   "metadata": {},
   "outputs": [],
   "source": [
    "def treeInput():\n",
    "    rootData = int(input())\n",
    "    if rootData == -1:\n",
    "        return None\n",
    "    \n",
    "    root = BinaryTreeNode(rootData)\n",
    "    leftTree = treeInput()\n",
    "    rightTree = treeInput()\n",
    "    root.left = leftTree\n",
    "    root.right = rightTree\n",
    "    return root"
   ]
  },
  {
   "cell_type": "code",
   "execution_count": 168,
   "id": "f44d2613",
   "metadata": {},
   "outputs": [],
   "source": [
    "def nodecount(root):\n",
    "    if root == None:\n",
    "        return 0\n",
    "    leftcount = nodecount(root.left)\n",
    "    rightcount = nodecount(root.right)\n",
    "    return 1+leftcount+rightcount"
   ]
  },
  {
   "cell_type": "code",
   "execution_count": 169,
   "id": "16d5c3d2",
   "metadata": {},
   "outputs": [],
   "source": [
    "def sum_of_nodes(root):\n",
    "    if root == None:\n",
    "        return 0\n",
    "    leftsum=sum_of_nodes(root.left)\n",
    "    rightsum=sum_of_nodes(root.right)\n",
    "    return root.data + leftsum + rightsum"
   ]
  },
  {
   "cell_type": "code",
   "execution_count": 170,
   "id": "65f7c543",
   "metadata": {},
   "outputs": [],
   "source": [
    "def height(root):\n",
    "    if root == None:\n",
    "        return 0\n",
    "    left = height(root.left)\n",
    "    right = height(root.right)\n",
    "    if left>right:\n",
    "        return left+1\n",
    "    else:\n",
    "        return right+1"
   ]
  },
  {
   "cell_type": "code",
   "execution_count": 171,
   "id": "d4af0409",
   "metadata": {},
   "outputs": [],
   "source": [
    "def largestData(root):\n",
    "    if root == None:\n",
    "        return -1\n",
    "    leftlargest = largestData(root.left)\n",
    "    rightlargest = largestData(root.right)\n",
    "    largest=max(root.data,leftlargest,rightlargest)\n",
    "    return largest"
   ]
  },
  {
   "cell_type": "code",
   "execution_count": 172,
   "id": "6d04af5d",
   "metadata": {},
   "outputs": [],
   "source": [
    "def numLeafNodes(root):\n",
    "    if root == None:\n",
    "        return 0\n",
    "    elif root.left == None and root.right == None:\n",
    "        return 1\n",
    "    numLeft = numLeafNodes(root.left)\n",
    "    numRight = numLeafNodes(root.right)\n",
    "    return numLeft + numRight"
   ]
  },
  {
   "cell_type": "code",
   "execution_count": 173,
   "id": "e133c772",
   "metadata": {},
   "outputs": [],
   "source": [
    "def printDepthk(root,k):\n",
    "    if root == None:\n",
    "        return\n",
    "    if k == 0:\n",
    "        print(root.data,end=\" \")\n",
    "    printDepthk(root.left,k-1)\n",
    "    printDepthk(root.right,k-1)"
   ]
  },
  {
   "cell_type": "code",
   "execution_count": 174,
   "id": "7ebb601b",
   "metadata": {},
   "outputs": [],
   "source": [
    "def print_Depthk(root,k,d=0):\n",
    "    if root == None:\n",
    "        return\n",
    "    if k==d:\n",
    "        print(root.data,end=\"^\")\n",
    "        return\n",
    "    print_Depthk(root.left,k,d+1)\n",
    "    print_Depthk(root.right,k,d+1)"
   ]
  },
  {
   "cell_type": "code",
   "execution_count": 175,
   "id": "4f44fa9a",
   "metadata": {},
   "outputs": [
    {
     "name": "stdout",
     "output_type": "stream",
     "text": [
      "1\n",
      "2\n",
      "4\n",
      "-1\n",
      "-1\n",
      "-1\n",
      "3\n",
      "-1\n",
      "-1\n",
      "1:L 2,R 3\n",
      "2:L 4,\n",
      "4:\n",
      "3:\n",
      "2 3 2^3^"
     ]
    }
   ],
   "source": [
    "root = treeInput()\n",
    "printTreeDetailed(root)\n",
    "nodecount(root)\n",
    "sum_of_nodes(root)\n",
    "largestData(root)\n",
    "numLeafNodes(root)\n",
    "printDepthk(root,1)\n",
    "print_Depthk(root,1,d=0)"
   ]
  },
  {
   "cell_type": "code",
   "execution_count": null,
   "id": "e98c33af",
   "metadata": {},
   "outputs": [],
   "source": []
  }
 ],
 "metadata": {
  "kernelspec": {
   "display_name": "Python 3 (ipykernel)",
   "language": "python",
   "name": "python3"
  },
  "language_info": {
   "codemirror_mode": {
    "name": "ipython",
    "version": 3
   },
   "file_extension": ".py",
   "mimetype": "text/x-python",
   "name": "python",
   "nbconvert_exporter": "python",
   "pygments_lexer": "ipython3",
   "version": "3.9.7"
  }
 },
 "nbformat": 4,
 "nbformat_minor": 5
}
