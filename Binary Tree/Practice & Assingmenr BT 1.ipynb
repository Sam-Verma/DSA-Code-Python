{
 "cells": [
  {
   "cell_type": "code",
   "execution_count": 12,
   "id": "9adfec4b",
   "metadata": {},
   "outputs": [],
   "source": [
    "class Btnode():\n",
    "    def __init__(self,data):\n",
    "        self.data = data\n",
    "        self.left = None\n",
    "        self.right = None\n",
    "\n",
    "def inputbt():\n",
    "    rootData=int(input())\n",
    "    if rootData == -1:\n",
    "        return None\n",
    "    root = Btnode(rootData)\n",
    "    leftbt=inputbt()\n",
    "    rightbt=inputbt()\n",
    "    root.left = leftbt\n",
    "    root.right = rightbt\n",
    "    return root\n",
    "\n",
    "def sum_of_nodes(root):\n",
    "    if root == None:\n",
    "        return 0\n",
    "    leftsum=sum_of_nodes(root.left)\n",
    "    rightsum=sum_of_nodes(root.right)\n",
    "    return root.data + leftsum +rightsum"
   ]
  },
  {
   "cell_type": "code",
   "execution_count": 31,
   "id": "45a13306",
   "metadata": {},
   "outputs": [],
   "source": [
    "def printbt(root):\n",
    "    if root == None:\n",
    "        return\n",
    "    print(root.data,end=\":\")\n",
    "    if root.left != None:\n",
    "        print(\"L\",root.left.data,end=\",\")\n",
    "    if root.right != None:\n",
    "        print(\"R\",root.right.data,end=\"\")\n",
    "    print()\n",
    "    printbt(root.left)\n",
    "    printbt(root.right)"
   ]
  },
  {
   "cell_type": "code",
   "execution_count": 20,
   "id": "ede368f7",
   "metadata": {},
   "outputs": [
    {
     "name": "stdout",
     "output_type": "stream",
     "text": [
      "1\n",
      "2\n",
      "4\n",
      "-1\n",
      "-1\n",
      "5\n",
      "-1\n",
      "-1\n",
      "3\n",
      "-1\n",
      "-1\n",
      "1\n",
      "2\n",
      "4\n",
      "5\n",
      "3\n"
     ]
    }
   ],
   "source": [
    "# PreOrder Traversal\n",
    "def preOrder_print(root):\n",
    "    if root == None:\n",
    "        return\n",
    "    print(root.data)\n",
    "    preOrder_print(root.left)\n",
    "    preOrder_print(root.right)\n",
    "\n",
    "root = inputbt()\n",
    "preOrder_print(root)"
   ]
  },
  {
   "cell_type": "code",
   "execution_count": 19,
   "id": "37dd2542",
   "metadata": {},
   "outputs": [
    {
     "name": "stdout",
     "output_type": "stream",
     "text": [
      "1\n",
      "2\n",
      "4\n",
      "-1\n",
      "-1\n",
      "5\n",
      "-1\n",
      "-1\n",
      "3\n",
      "-1\n",
      "-1\n",
      "4\n",
      "5\n",
      "2\n",
      "3\n",
      "1\n"
     ]
    }
   ],
   "source": [
    "# PostOrder Traversal\n",
    "def postorder_print(root):\n",
    "    if root == None:\n",
    "        return\n",
    "    postorder_print(root.left)\n",
    "    postorder_print(root.right)\n",
    "    print(root.data)\n",
    "\n",
    "root = inputbt()    \n",
    "postorder_print(root)"
   ]
  },
  {
   "cell_type": "code",
   "execution_count": 21,
   "id": "aa9410cc",
   "metadata": {},
   "outputs": [
    {
     "name": "stdout",
     "output_type": "stream",
     "text": [
      "1\n",
      "2\n",
      "4\n",
      "-1\n",
      "-1\n",
      "5\n",
      "-1\n",
      "-1\n",
      "3\n",
      "-1\n",
      "-1\n",
      "4\n",
      "2\n",
      "5\n",
      "1\n",
      "3\n"
     ]
    }
   ],
   "source": [
    "# InOrder Traversal\n",
    "def inorder_print(root):\n",
    "    if root == None:\n",
    "        return\n",
    "    inorder_print(root.left)\n",
    "    print(root.data)\n",
    "    inorder_print(root.right)\n",
    "\n",
    "root = inputbt()    \n",
    "inorder_print(root)"
   ]
  },
  {
   "cell_type": "code",
   "execution_count": 30,
   "id": "a43a9e58",
   "metadata": {},
   "outputs": [
    {
     "name": "stdout",
     "output_type": "stream",
     "text": [
      "1\n",
      "2\n",
      "4\n",
      "-1\n",
      "-1\n",
      "5\n",
      "-1\n",
      "-1\n",
      "3\n",
      "-1\n",
      "7\n",
      "-1\n",
      "-1\n"
     ]
    }
   ],
   "source": [
    "def NodeGreaterthanX(root,x,count=0):\n",
    "    if root == None:\n",
    "        return \n",
    "    if root.data > x:\n",
    "        count+=1\n",
    "        return count\n",
    "    left = NodeGreaterthanX(root.left,x,count)\n",
    "    right = NodeGreaterthanX(root.right,x,count)\n",
    "    return count + left + right\n",
    "\n",
    "root = inputbt()\n",
    "NodeGreaterthanX(root,2)"
   ]
  },
  {
   "cell_type": "code",
   "execution_count": 26,
   "id": "c2c0089d",
   "metadata": {},
   "outputs": [
    {
     "name": "stdout",
     "output_type": "stream",
     "text": [
      "1\n",
      "2\n",
      "4\n",
      "-1\n",
      "-1\n",
      "5\n",
      "-1\n",
      "-1\n",
      "3\n",
      "-1\n",
      "-1\n"
     ]
    },
    {
     "data": {
      "text/plain": [
       "3"
      ]
     },
     "execution_count": 26,
     "metadata": {},
     "output_type": "execute_result"
    }
   ],
   "source": [
    "def height(root):\n",
    "    if root == None:\n",
    "        return 0\n",
    "    left = height(root.left)\n",
    "    right = height(root.right)\n",
    "    if left>right:\n",
    "        return left+1\n",
    "    else:\n",
    "        return right+1\n",
    "\n",
    "root = inputbt()\n",
    "height(root)"
   ]
  },
  {
   "cell_type": "code",
   "execution_count": 36,
   "id": "85cd18c7",
   "metadata": {},
   "outputs": [
    {
     "name": "stdout",
     "output_type": "stream",
     "text": [
      "1\n",
      "-1\n",
      "-1\n"
     ]
    }
   ],
   "source": [
    "# Replace Node Data With Depth of Tree\n",
    "def replaceNodeDepth(root,k=0):\n",
    "    if root == None:\n",
    "        return \n",
    "    root.data == k\n",
    "    left = replaceNodeDepth(root.left,k+1)\n",
    "    right = replaceNodeDepth(root.right,k+1)\n",
    "\n",
    "root = inputbt()\n",
    "preOrder_print(replaceNodeDepth(root,k=0))"
   ]
  },
  {
   "cell_type": "code",
   "execution_count": 37,
   "id": "0da2006c",
   "metadata": {},
   "outputs": [
    {
     "name": "stdout",
     "output_type": "stream",
     "text": [
      "1\n",
      "2\n",
      "4\n",
      "-1\n",
      "-1\n",
      "5\n",
      "-1\n",
      "-1\n",
      "3\n",
      "-1\n",
      "-1\n"
     ]
    },
    {
     "data": {
      "text/plain": [
       "False"
      ]
     },
     "execution_count": 37,
     "metadata": {},
     "output_type": "execute_result"
    }
   ],
   "source": [
    "# Find if X presend in Node \n",
    "def findx(root,x):\n",
    "    if root == None:\n",
    "        return\n",
    "    if root.data == x:\n",
    "        return True\n",
    "    else:\n",
    "        return False\n",
    "    left = replaceNodeDepth(root.left,x)\n",
    "    right = replaceNodeDepth(root.right,x)\n",
    "\n",
    "root = inputbt()\n",
    "findx(root,5)"
   ]
  },
  {
   "cell_type": "code",
   "execution_count": null,
   "id": "221f4843",
   "metadata": {},
   "outputs": [],
   "source": []
  }
 ],
 "metadata": {
  "kernelspec": {
   "display_name": "Python 3 (ipykernel)",
   "language": "python",
   "name": "python3"
  },
  "language_info": {
   "codemirror_mode": {
    "name": "ipython",
    "version": 3
   },
   "file_extension": ".py",
   "mimetype": "text/x-python",
   "name": "python",
   "nbconvert_exporter": "python",
   "pygments_lexer": "ipython3",
   "version": "3.9.7"
  }
 },
 "nbformat": 4,
 "nbformat_minor": 5
}
