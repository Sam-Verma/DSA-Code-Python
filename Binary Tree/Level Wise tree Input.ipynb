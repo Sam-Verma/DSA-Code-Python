{
 "cells": [
  {
   "cell_type": "code",
   "execution_count": 3,
   "id": "6e0a6cef",
   "metadata": {},
   "outputs": [],
   "source": [
    "class BinaryTreeNode():\n",
    "    def __init__(self,data):\n",
    "        self.data=data\n",
    "        self.left=None\n",
    "        self.right=None"
   ]
  },
  {
   "cell_type": "code",
   "execution_count": 4,
   "id": "7a6a5c83",
   "metadata": {},
   "outputs": [],
   "source": [
    "def printTreeDetailed(root):\n",
    "    if root == None:\n",
    "        return\n",
    "    print(root.data, end=\":\")\n",
    "    if root.left != None:\n",
    "        print(\"L\",root.left.data,end=\",\")\n",
    "    if root.right != None:\n",
    "        print(\"R\",root.right.data,end=\"\")\n",
    "    print()\n",
    "    printTreeDetailed(root.left)\n",
    "    printTreeDetailed(root.right)"
   ]
  },
  {
   "cell_type": "code",
   "execution_count": 36,
   "id": "7e7f5718",
   "metadata": {},
   "outputs": [],
   "source": [
    "import queue\n",
    "def takeLevelWiseTreeInput():\n",
    "    q = queue.Queue()\n",
    "    rootData = int(input(\"Enter root\"))\n",
    "    if rootData == -1:\n",
    "        return None\n",
    "    root = BinaryTreeNode(rootData)\n",
    "    q.put(root)\n",
    "    while (not(q.empty())):\n",
    "        curr_node = q.get()\n",
    "        print(\"Enter left child:\",curr_node.data)\n",
    "        leftchildData = int(input())\n",
    "        if leftchildData != -1:\n",
    "            leftChild = BinaryTreeNode(leftchildData)\n",
    "            curr_node.left = leftChild\n",
    "            q.put(leftChild)\n",
    "        print(\"Enter right child:\",curr_node.data)\n",
    "        rightchildData = int(input())\n",
    "        if rightchildData != -1:\n",
    "            rightChild = BinaryTreeNode(rightchildData)\n",
    "            curr_node.right = rightChild\n",
    "            q.put(rightChild)\n",
    "    return root"
   ]
  },
  {
   "cell_type": "code",
   "execution_count": null,
   "id": "27dc98ef",
   "metadata": {},
   "outputs": [],
   "source": [
    "root =  takeLevelWiseTreeInput()\n",
    "printTreeDetailed(root)"
   ]
  },
  {
   "cell_type": "code",
   "execution_count": 13,
   "id": "a94c2460",
   "metadata": {},
   "outputs": [],
   "source": [
    "import queue\n",
    "def levelwiseprint(root):\n",
    "    q = queue.Queue()\n",
    "    if root is None:\n",
    "        print(\"Tree is Empty\")\n",
    "        return\n",
    "    q.put(root)\n",
    "    while not(q.empty()):\n",
    "        curr_root = q.get()\n",
    "        print(curr_root.data, end=\":\")\n",
    "        if curr_root.left is not None:\n",
    "            print(\"L\",curr_root.left.data,end=\",\")\n",
    "            q.put(curr_root.left)\n",
    "        else:\n",
    "            print(-1)\n",
    "        if curr_root.right is not None:\n",
    "            print(\"R\",curr_root.right.data,end=\",\")\n",
    "            q.put(curr_root.right)\n",
    "        else:\n",
    "            print(-1)\n",
    "        print()\n",
    "    "
   ]
  },
  {
   "cell_type": "code",
   "execution_count": 14,
   "id": "c9455ae0",
   "metadata": {},
   "outputs": [
    {
     "name": "stdout",
     "output_type": "stream",
     "text": [
      "Enter root1\n",
      "Enter left child: 1\n",
      "2\n",
      "Enter right child: 1\n",
      "3\n",
      "Enter left child: 2\n",
      "-1\n",
      "Enter right child: 2\n",
      "-1\n",
      "Enter left child: 3\n",
      "-1\n",
      "Enter right child: 3\n",
      "-1\n",
      "1:L 2,R 3,\n",
      "2:-1\n",
      "-1\n",
      "\n",
      "3:-1\n",
      "-1\n",
      "\n"
     ]
    }
   ],
   "source": [
    "root =  takeLevelWiseTreeInput()\n",
    "levelwiseprint(root)"
   ]
  },
  {
   "cell_type": "code",
   "execution_count": 5,
   "id": "5cccacca",
   "metadata": {},
   "outputs": [],
   "source": [
    "def BuildTree(pre,inorder):\n",
    "    if len(pre) == 0:\n",
    "        return None\n",
    "    rootdata = pre[0]\n",
    "    root = BinaryTreeNode(rootdata)\n",
    "    rootindexinorder = -1\n",
    "    for i in range(len(inorder)):\n",
    "        if inorder[i] == rootdata:\n",
    "            rootindexinorder = i\n",
    "            break\n",
    "    if rootindexinorder == -1:\n",
    "        return None\n",
    "    leftInorder = inorder[:rootindexinorder]\n",
    "    rightInoder = inorder[rootindexinorder+1:]\n",
    "    \n",
    "    lenleftInorder = len(leftInorder)\n",
    "    lenrightInorder = len(rightInoder)\n",
    "    \n",
    "    leftPreorder = pre[1:lenleftInorder+1]\n",
    "    rightPreorder = pre[lenleftInorder+1:]\n",
    "    \n",
    "    leftChild = BuildTree(leftPreorder,leftInorder)\n",
    "    rightChild = BuildTree(rightPreorder,rightInoder)\n",
    "    \n",
    "    root.left = leftChild\n",
    "    root.right = rightChild\n",
    "    \n",
    "    return root"
   ]
  },
  {
   "cell_type": "code",
   "execution_count": 6,
   "id": "f6499684",
   "metadata": {},
   "outputs": [
    {
     "name": "stdout",
     "output_type": "stream",
     "text": [
      "1:L 2,R 3\n",
      "2:L 4,R 5\n",
      "4:\n",
      "5:\n",
      "3:L 6,R 7\n",
      "6:\n",
      "7:\n"
     ]
    }
   ],
   "source": [
    "pre = [1,2,4,5,3,6,7]\n",
    "inorder = [4,2,5,1,6,3,7]\n",
    "root = BuildTree(pre,inorder)\n",
    "printTreeDetailed(root)"
   ]
  },
  {
   "cell_type": "code",
   "execution_count": 7,
   "id": "80f0540c",
   "metadata": {},
   "outputs": [],
   "source": [
    "def insertDuplicatenode(root):\n",
    "    if root == None:\n",
    "        return \n",
    "    insertDuplicatenode(root.left)\n",
    "    insertDuplicatenode(root.right)\n",
    "\n",
    "    duplicate = root.data\n",
    "    duplicatenode = BinaryTreeNode(duplicate)\n",
    "    duplicatenode.left = root.left\n",
    "    root.left = duplicatenode      \n",
    "    \n",
    "    return root"
   ]
  },
  {
   "cell_type": "code",
   "execution_count": 8,
   "id": "844fcea6",
   "metadata": {},
   "outputs": [
    {
     "name": "stdout",
     "output_type": "stream",
     "text": [
      "1:L 1,R 3\n",
      "1:L 2,\n",
      "2:L 2,R 5\n",
      "2:L 4,\n",
      "4:L 4,\n",
      "4:\n",
      "5:L 5,\n",
      "5:\n",
      "3:L 3,R 7\n",
      "3:L 6,\n",
      "6:L 6,\n",
      "6:\n",
      "7:L 7,\n",
      "7:\n"
     ]
    }
   ],
   "source": [
    "pre = [1,2,4,5,3,6,7]\n",
    "inorder = [4,2,5,1,6,3,7]\n",
    "root = BuildTree(pre,inorder)\n",
    "insertDuplicatenode(root)\n",
    "printTreeDetailed(root)"
   ]
  },
  {
   "cell_type": "code",
   "execution_count": null,
   "id": "01a4cd9a",
   "metadata": {},
   "outputs": [],
   "source": []
  }
 ],
 "metadata": {
  "kernelspec": {
   "display_name": "Python 3 (ipykernel)",
   "language": "python",
   "name": "python3"
  },
  "language_info": {
   "codemirror_mode": {
    "name": "ipython",
    "version": 3
   },
   "file_extension": ".py",
   "mimetype": "text/x-python",
   "name": "python",
   "nbconvert_exporter": "python",
   "pygments_lexer": "ipython3",
   "version": "3.9.7"
  }
 },
 "nbformat": 4,
 "nbformat_minor": 5
}
