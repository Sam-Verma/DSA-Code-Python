{
 "cells": [
  {
   "cell_type": "code",
   "execution_count": null,
   "id": "f4f3ea9e",
   "metadata": {},
   "outputs": [
    {
     "name": "stdout",
     "output_type": "stream",
     "text": [
      "Enter value of a:j\n",
      "a and b shoud be integer\n",
      "Exception may or may not be raised\n",
      "Enter value of a:5\n",
      "Enter value of b:0\n",
      "Zero Domination Error is raised\n",
      "Exception may or may not be raised\n"
     ]
    }
   ],
   "source": [
    "class ZeroDenominatorError(Exception):\n",
    "    pass\n",
    "while True:\n",
    "    try:\n",
    "        a=int(input(\"Enter value of a:\"))\n",
    "        b=int(input(\"Enter value of b:\"))\n",
    "        if b==0:\n",
    "            raise ZeroDenominatorError('Denominator should not be Zero')\n",
    "        print(\"HI\")\n",
    "        val=a/b\n",
    "    except ValueError:\n",
    "        print(\"a and b shoud be integer\")\n",
    "    except ZeroDivisionError:\n",
    "        print(\"ZeroDivisionError b should not be 0:\")\n",
    "    except ZeroDenominatorError:\n",
    "        print(\"Zero Domination Error is raised\")\n",
    "    else:\n",
    "        print(val)\n",
    "        break\n",
    "    finally:\n",
    "        print(\"Exception may or may not be raised\")"
   ]
  },
  {
   "cell_type": "code",
   "execution_count": null,
   "id": "c480f45c",
   "metadata": {},
   "outputs": [],
   "source": []
  },
  {
   "cell_type": "code",
   "execution_count": null,
   "id": "78956c6d",
   "metadata": {},
   "outputs": [],
   "source": []
  }
 ],
 "metadata": {
  "kernelspec": {
   "display_name": "Python 3 (ipykernel)",
   "language": "python",
   "name": "python3"
  },
  "language_info": {
   "codemirror_mode": {
    "name": "ipython",
    "version": 3
   },
   "file_extension": ".py",
   "mimetype": "text/x-python",
   "name": "python",
   "nbconvert_exporter": "python",
   "pygments_lexer": "ipython3",
   "version": "3.9.7"
  }
 },
 "nbformat": 4,
 "nbformat_minor": 5
}
