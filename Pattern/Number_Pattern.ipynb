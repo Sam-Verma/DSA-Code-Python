{
 "cells": [
  {
   "cell_type": "code",
   "execution_count": 3,
   "id": "3b45400f",
   "metadata": {},
   "outputs": [
    {
     "name": "stdout",
     "output_type": "stream",
     "text": [
      "Enter n=5\n",
      "11111\n",
      "11111\n",
      "11111\n",
      "11111\n",
      "11111\n"
     ]
    }
   ],
   "source": [
    "# Basic Square 1 Pattern\n",
    "\n",
    "n=int(input(\"Enter n=\"))\n",
    "\n",
    "for i in range(n):\n",
    "    for j in range(n):\n",
    "        print('1',end='')\n",
    "    print()"
   ]
  },
  {
   "cell_type": "code",
   "execution_count": 9,
   "id": "72ae8b48",
   "metadata": {},
   "outputs": [
    {
     "name": "stdout",
     "output_type": "stream",
     "text": [
      "Enter n=4\n",
      "1111\n",
      "2222\n",
      "3333\n",
      "4444\n"
     ]
    }
   ],
   "source": [
    "# Basic Square Incrementing Pattern\n",
    "\n",
    "n=int(input(\"Enter n=\"))\n",
    "\n",
    "for i in range(n):\n",
    "    for j in range(n):\n",
    "        print(i+1,end='')\n",
    "    print()"
   ]
  },
  {
   "cell_type": "code",
   "execution_count": 14,
   "id": "52b336e8",
   "metadata": {},
   "outputs": [
    {
     "name": "stdout",
     "output_type": "stream",
     "text": [
      "Enter n=4\n",
      "333\n",
      "313\n",
      "323\n",
      "333\n"
     ]
    }
   ],
   "source": [
    "# Internal varsity square Pattern\n",
    "\n",
    "n=int(input(\"Enter n=\"))\n",
    "\n",
    "for i in range(n):\n",
    "    if i==0 or i==n-1:\n",
    "        for j in range(3):\n",
    "            print(3,end='')\n",
    "        print()\n",
    "    else:\n",
    "        for j in range(3):\n",
    "            if j==0 or j==2:\n",
    "                print(3,end='')\n",
    "            else:\n",
    "                print(i,end='')\n",
    "        print()"
   ]
  },
  {
   "cell_type": "code",
   "execution_count": 18,
   "id": "110bb3b5",
   "metadata": {},
   "outputs": [
    {
     "name": "stdout",
     "output_type": "stream",
     "text": [
      "Enter n=4\n",
      "1\n",
      "23\n",
      "456\n",
      "78910\n"
     ]
    }
   ],
   "source": [
    "# Basic Right Triangle Number Pattern\n",
    "\n",
    "n=int(input(\"Enter n=\"))\n",
    "cnt=0\n",
    "for i in range(n):\n",
    "    for j in range(i+1):\n",
    "        cnt+=1\n",
    "        print(cnt,end='')\n",
    "    print()"
   ]
  },
  {
   "cell_type": "code",
   "execution_count": 25,
   "id": "23bb5696",
   "metadata": {},
   "outputs": [
    {
     "name": "stdout",
     "output_type": "stream",
     "text": [
      "Enter n=4\n",
      "10987\n",
      "654\n",
      "32\n",
      "1\n"
     ]
    }
   ],
   "source": [
    "# Inverted Right Triangle Number Pattern\n",
    "\n",
    "n=int(input(\"Enter n=\"))\n",
    "\n",
    "cnt=0\n",
    "for i in range(n,0,-1):\n",
    "    cnt+=i\n",
    "\n",
    "for i in range(n):\n",
    "    for j in range(n-i):\n",
    "        print(cnt,end='')\n",
    "        cnt-=1\n",
    "    print()"
   ]
  },
  {
   "cell_type": "code",
   "execution_count": null,
   "id": "4336e82f",
   "metadata": {},
   "outputs": [],
   "source": []
  }
 ],
 "metadata": {
  "kernelspec": {
   "display_name": "Python 3 (ipykernel)",
   "language": "python",
   "name": "python3"
  },
  "language_info": {
   "codemirror_mode": {
    "name": "ipython",
    "version": 3
   },
   "file_extension": ".py",
   "mimetype": "text/x-python",
   "name": "python",
   "nbconvert_exporter": "python",
   "pygments_lexer": "ipython3",
   "version": "3.9.7"
  }
 },
 "nbformat": 4,
 "nbformat_minor": 5
}
