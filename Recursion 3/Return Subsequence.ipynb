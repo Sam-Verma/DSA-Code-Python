{
 "cells": [
  {
   "cell_type": "code",
   "execution_count": 3,
   "id": "4adc14b4",
   "metadata": {},
   "outputs": [],
   "source": [
    "def subs(string):\n",
    "    \n",
    "    if len(string) == 0:\n",
    "        output = []\n",
    "        output.append('')\n",
    "        return output\n",
    "    \n",
    "    smallerstring = string[1:]\n",
    "    smalleroutput = subs(smallerstring)\n",
    "    \n",
    "    output = []\n",
    "    for sub in smalleroutput:\n",
    "        output.append(sub)\n",
    "    \n",
    "    for sub in smalleroutput:\n",
    "        subs_with_zeroth_char = string[0] + sub\n",
    "        output.append(subs_with_zeroth_char)\n",
    "    \n",
    "    return output"
   ]
  },
  {
   "cell_type": "code",
   "execution_count": 8,
   "id": "0172cef3",
   "metadata": {},
   "outputs": [
    {
     "data": {
      "text/plain": [
       "['', 'c', 'b', 'bc', 'a', 'ac', 'ab', 'abc']"
      ]
     },
     "execution_count": 8,
     "metadata": {},
     "output_type": "execute_result"
    }
   ],
   "source": [
    "subs('abc')"
   ]
  },
  {
   "cell_type": "code",
   "execution_count": 9,
   "id": "b235b116",
   "metadata": {},
   "outputs": [],
   "source": [
    "def getString(d):\n",
    "    if d == 2:\n",
    "        return 'abc'\n",
    "    if d == 3:\n",
    "        return 'def'\n",
    "    if d == 4:\n",
    "        return 'ghi'\n",
    "    if d == 5:\n",
    "        return 'jkl'\n",
    "    if d == 6:\n",
    "        return 'mno'\n",
    "    if d == 7:\n",
    "        return 'pqrs'\n",
    "    if d == 8:\n",
    "        return 'tuv'\n",
    "    if d == 9:\n",
    "        return 'wxyz'\n",
    "    return ' '"
   ]
  },
  {
   "cell_type": "code",
   "execution_count": 12,
   "id": "614f0273",
   "metadata": {},
   "outputs": [],
   "source": [
    "def keypad(n):\n",
    "    \n",
    "    if n==0:\n",
    "        output = []\n",
    "        output.append('')\n",
    "        return output\n",
    "    \n",
    "    smallerdigit = n//10\n",
    "    lastdigit = n%10\n",
    "    \n",
    "    smallerOutput = keypad(smallerdigit)\n",
    "    optionsForLastDigit = getString(lastdigit)\n",
    "    \n",
    "    output = []\n",
    "    \n",
    "    for s in smallerOutput:\n",
    "        for c in optionsForLastDigit:\n",
    "            option = s + c\n",
    "            output.append(option)\n",
    "            \n",
    "    return output"
   ]
  },
  {
   "cell_type": "code",
   "execution_count": 18,
   "id": "6e6f9465",
   "metadata": {},
   "outputs": [
    {
     "data": {
      "text/plain": [
       "['ad', 'ae', 'af', 'bd', 'be', 'bf', 'cd', 'ce', 'cf']"
      ]
     },
     "execution_count": 18,
     "metadata": {},
     "output_type": "execute_result"
    }
   ],
   "source": [
    "keypad(23)"
   ]
  },
  {
   "cell_type": "code",
   "execution_count": null,
   "id": "870c32fd",
   "metadata": {},
   "outputs": [],
   "source": []
  }
 ],
 "metadata": {
  "kernelspec": {
   "display_name": "Python 3 (ipykernel)",
   "language": "python",
   "name": "python3"
  },
  "language_info": {
   "codemirror_mode": {
    "name": "ipython",
    "version": 3
   },
   "file_extension": ".py",
   "mimetype": "text/x-python",
   "name": "python",
   "nbconvert_exporter": "python",
   "pygments_lexer": "ipython3",
   "version": "3.9.7"
  }
 },
 "nbformat": 4,
 "nbformat_minor": 5
}
