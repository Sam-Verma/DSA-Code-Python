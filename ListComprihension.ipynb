{
 "cells": [
  {
   "cell_type": "code",
   "execution_count": 10,
   "id": "0b47bac1",
   "metadata": {},
   "outputs": [
    {
     "name": "stdout",
     "output_type": "stream",
     "text": [
      "[1, 4, 9, 16, 25, 36]\n"
     ]
    }
   ],
   "source": [
    "li = [1,2,3,4,5,6]\n",
    "li_new = []\n",
    "for ele in li:\n",
    "    li_new.append(ele**2)\n",
    "print(li_new)"
   ]
  },
  {
   "cell_type": "code",
   "execution_count": 3,
   "id": "cebdca33",
   "metadata": {},
   "outputs": [],
   "source": [
    "li_new_c = [ele**2 for ele in li]"
   ]
  },
  {
   "cell_type": "code",
   "execution_count": 4,
   "id": "991815df",
   "metadata": {},
   "outputs": [
    {
     "data": {
      "text/plain": [
       "[1, 4, 9, 16, 25]"
      ]
     },
     "execution_count": 4,
     "metadata": {},
     "output_type": "execute_result"
    }
   ],
   "source": [
    "li_new_c"
   ]
  },
  {
   "cell_type": "code",
   "execution_count": 5,
   "id": "704a0653",
   "metadata": {},
   "outputs": [
    {
     "data": {
      "text/plain": [
       "[4, 16]"
      ]
     },
     "execution_count": 5,
     "metadata": {},
     "output_type": "execute_result"
    }
   ],
   "source": [
    "li_even_squr = [ele**2 for ele in li if ele%2==0]\n",
    "li_even_squr"
   ]
  },
  {
   "cell_type": "code",
   "execution_count": 11,
   "id": "bf28cad1",
   "metadata": {},
   "outputs": [
    {
     "name": "stdout",
     "output_type": "stream",
     "text": [
      "[6]\n"
     ]
    }
   ],
   "source": [
    "li2 = [ele for ele in li if ele%2==0 if ele%3==0]\n",
    "print(li2)"
   ]
  },
  {
   "cell_type": "code",
   "execution_count": 12,
   "id": "8f96fdf0",
   "metadata": {},
   "outputs": [
    {
     "name": "stdout",
     "output_type": "stream",
     "text": [
      "[6]\n"
     ]
    }
   ],
   "source": [
    "li2_=[]\n",
    "for ele in li:\n",
    "    if ele%2==0:\n",
    "        if ele%3==0:\n",
    "            li2_.append(ele)\n",
    "print(li2_)"
   ]
  },
  {
   "cell_type": "code",
   "execution_count": 14,
   "id": "b5f1ff16",
   "metadata": {},
   "outputs": [
    {
     "name": "stdout",
     "output_type": "stream",
     "text": [
      "[2, 4]\n"
     ]
    }
   ],
   "source": [
    "li1=[1,2,3,4,5]\n",
    "li2=[2,4,6,7]\n",
    "li_inter=[]\n",
    "for ele in li1:\n",
    "    for ele2 in li2:\n",
    "        if ele==ele2:\n",
    "            li_inter.append(ele)\n",
    "print(li_inter)"
   ]
  },
  {
   "cell_type": "code",
   "execution_count": 17,
   "id": "89259abd",
   "metadata": {},
   "outputs": [
    {
     "data": {
      "text/plain": [
       "[2, 4]"
      ]
     },
     "execution_count": 17,
     "metadata": {},
     "output_type": "execute_result"
    }
   ],
   "source": [
    "li1=[1,2,3,4,5]\n",
    "li2=[2,4,6,7]\n",
    "li_inter=[ele for ele in li1 for ele2 in li2 if ele==ele2]\n",
    "li_inter"
   ]
  },
  {
   "cell_type": "code",
   "execution_count": 18,
   "id": "4ca95129",
   "metadata": {},
   "outputs": [
    {
     "data": {
      "text/plain": [
       "[1, 4, 3, 16, 5]"
      ]
     },
     "execution_count": 18,
     "metadata": {},
     "output_type": "execute_result"
    }
   ],
   "source": [
    "li = [1,2,3,4,5]\n",
    "li_inter=[ele**2 if ele%2==0 else ele for ele in li]\n",
    "li_inter"
   ]
  },
  {
   "cell_type": "code",
   "execution_count": 20,
   "id": "55bc9546",
   "metadata": {},
   "outputs": [
    {
     "data": {
      "text/plain": [
       "['S', 'h', 'i', 'v', 'a', 'm']"
      ]
     },
     "execution_count": 20,
     "metadata": {},
     "output_type": "execute_result"
    }
   ],
   "source": [
    "s=\"Shivam\"\n",
    "li=[ele for ele in s]\n",
    "li"
   ]
  },
  {
   "cell_type": "code",
   "execution_count": 21,
   "id": "80b22670",
   "metadata": {},
   "outputs": [
    {
     "data": {
      "text/plain": [
       "[['S', 'h', 'i', 'v', 'a', 'm'],\n",
       " ['K', 'r', 'i', 's', 'h', 'n', 'a'],\n",
       " ['V', 'e', 'r', 'm', 'a']]"
      ]
     },
     "execution_count": 21,
     "metadata": {},
     "output_type": "execute_result"
    }
   ],
   "source": [
    "li = [\"Shivam\",\"Krishna\",\"Verma\"]\n",
    "li_2d =[[s for s in ele] for ele in li]\n",
    "li_2d"
   ]
  }
 ],
 "metadata": {
  "kernelspec": {
   "display_name": "Python 3 (ipykernel)",
   "language": "python",
   "name": "python3"
  },
  "language_info": {
   "codemirror_mode": {
    "name": "ipython",
    "version": 3
   },
   "file_extension": ".py",
   "mimetype": "text/x-python",
   "name": "python",
   "nbconvert_exporter": "python",
   "pygments_lexer": "ipython3",
   "version": "3.9.7"
  }
 },
 "nbformat": 4,
 "nbformat_minor": 5
}
