{
 "cells": [
  {
   "cell_type": "code",
   "execution_count": 5,
   "id": "504b574d",
   "metadata": {},
   "outputs": [
    {
     "data": {
      "text/plain": [
       "1.96875"
      ]
     },
     "execution_count": 5,
     "metadata": {},
     "output_type": "execute_result"
    }
   ],
   "source": [
    "#Sum of GP\n",
    "def g_sum(k):\n",
    "    if k==1:\n",
    "        sum=1+(1/2)\n",
    "        return sum\n",
    "    return 1/2**k + g_sum(k-1)\n",
    "\n",
    "g_sum(5)"
   ]
  },
  {
   "cell_type": "code",
   "execution_count": 13,
   "id": "7dd6d396",
   "metadata": {},
   "outputs": [
    {
     "data": {
      "text/plain": [
       "True"
      ]
     },
     "execution_count": 13,
     "metadata": {},
     "output_type": "execute_result"
    }
   ],
   "source": [
    "#Check Palindrome\n",
    "def checkpali(s,si,ei):\n",
    "    if si>=ei:\n",
    "        return True\n",
    "    elif s[si]==s[ei]:\n",
    "        return True\n",
    "    else:\n",
    "        False\n",
    "    return checkpali(s,si+1,ei-1)\n",
    "\n",
    "s='abcdca'\n",
    "checkpali(s,0,len(s)-1)"
   ]
  },
  {
   "cell_type": "code",
   "execution_count": null,
   "id": "e7bc9ef5",
   "metadata": {},
   "outputs": [],
   "source": []
  }
 ],
 "metadata": {
  "kernelspec": {
   "display_name": "Python 3 (ipykernel)",
   "language": "python",
   "name": "python3"
  },
  "language_info": {
   "codemirror_mode": {
    "name": "ipython",
    "version": 3
   },
   "file_extension": ".py",
   "mimetype": "text/x-python",
   "name": "python",
   "nbconvert_exporter": "python",
   "pygments_lexer": "ipython3",
   "version": "3.9.7"
  }
 },
 "nbformat": 4,
 "nbformat_minor": 5
}
