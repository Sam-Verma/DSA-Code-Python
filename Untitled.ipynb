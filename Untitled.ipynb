{
 "cells": [
  {
   "cell_type": "code",
   "execution_count": 10,
   "id": "50ba065a",
   "metadata": {},
   "outputs": [
    {
     "name": "stdout",
     "output_type": "stream",
     "text": [
      " method named test1 of B called \n"
     ]
    }
   ],
   "source": [
    "class A:\n",
    "\n",
    "    def test1(self):\n",
    "        print(\" method named test1 of A called \")\n",
    "\n",
    "class B(A):\n",
    "\n",
    "    def test1(self):\n",
    "        print(\" method named test1 of B called \")\n",
    "\n",
    "class C(A):\n",
    "\n",
    "    def test1(self):\n",
    "        print(\" method named test1 of C called \")\n",
    "\n",
    "class D(B,C):\n",
    "\n",
    "    def test2(self):\n",
    "        print(\" method named test2 of D called \")        \n",
    "\n",
    "\n",
    "object1=D()\n",
    "object1.test1()"
   ]
  },
  {
   "cell_type": "code",
   "execution_count": null,
   "id": "98d2072f",
   "metadata": {},
   "outputs": [],
   "source": []
  },
  {
   "cell_type": "code",
   "execution_count": null,
   "id": "d571d4a7",
   "metadata": {},
   "outputs": [],
   "source": []
  }
 ],
 "metadata": {
  "kernelspec": {
   "display_name": "Python 3 (ipykernel)",
   "language": "python",
   "name": "python3"
  },
  "language_info": {
   "codemirror_mode": {
    "name": "ipython",
    "version": 3
   },
   "file_extension": ".py",
   "mimetype": "text/x-python",
   "name": "python",
   "nbconvert_exporter": "python",
   "pygments_lexer": "ipython3",
   "version": "3.9.7"
  }
 },
 "nbformat": 4,
 "nbformat_minor": 5
}
