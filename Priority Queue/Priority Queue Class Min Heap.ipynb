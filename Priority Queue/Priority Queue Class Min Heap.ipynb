{
 "cells": [
  {
   "cell_type": "code",
   "execution_count": 1,
   "id": "658b1ad5",
   "metadata": {},
   "outputs": [
    {
     "name": "stdout",
     "output_type": "stream",
     "text": [
      "D\n",
      "C\n",
      "A\n",
      "B\n"
     ]
    }
   ],
   "source": [
    "class PriorityQueueNode:\n",
    "    def __init__(self,value,priority):\n",
    "        self.value = value\n",
    "        self.priority = priority\n",
    "\n",
    "class PriorityQueue:\n",
    "    def __init__(self):\n",
    "        self.pq = []\n",
    "        \n",
    "    def getsize(self):\n",
    "        return len(self.pq)\n",
    "    \n",
    "    def isEmpty(self):\n",
    "        return self.getsize() == 0\n",
    "    \n",
    "    def getMin(self):\n",
    "        if isEmpty() is True:\n",
    "            return None\n",
    "        return self.pq[0]\n",
    "    \n",
    "    def __percolateUp(self):\n",
    "        childIndex = self.getsize() - 1\n",
    "        while childIndex > 0:\n",
    "            parentIndex = (childIndex - 1)//2\n",
    "            if self.pq[childIndex].priority < self.pq[parentIndex].priority:\n",
    "                self.pq[childIndex],self.pq[parentIndex] = self.pq[parentIndex],self.pq[childIndex]\n",
    "                childIndex = parentIndex\n",
    "            else:\n",
    "                break\n",
    "    \n",
    "    def insert(self,value,priority):\n",
    "        pqNode = PriorityQueueNode(value,priority)\n",
    "        self.pq.append(pqNode)\n",
    "        self.__percolateUp()\n",
    "    \n",
    "    def __percolateDown(self):\n",
    "        parentIndex = 0\n",
    "        leftChildIndex = 2*parentIndex + 1\n",
    "        rightChildIndex = 2*parentIndex + 2\n",
    "        while leftChildIndex < self.getsize():\n",
    "            minIndex = parentIndex\n",
    "            if self.pq[minIndex].priority > self.pq[leftChildIndex].priority:\n",
    "                minIndex = leftChildIndex\n",
    "            if rightChildIndex < self.getsize() and self.pq[minIndex].priority > self.pq[rightChildIndex].priority:\n",
    "                minIndex = rightChildIndex\n",
    "            \n",
    "            if minIndex == parentIndex:\n",
    "                break\n",
    "            self.pq[parentIndex],self.pq[minIndex] = self.pq[minIndex],self.pq[parentIndex]\n",
    "            parentIndex = minIndex\n",
    "            leftChildIndex = 2*parentIndex + 1\n",
    "            rightChildIndex = 2*parentIndex +2\n",
    "        \n",
    "        \n",
    "    def removeMin(self):\n",
    "        if self.isEmpty():\n",
    "            return None\n",
    "        ele = self.pq[0].value\n",
    "        self.pq[0] = self.pq[self.getsize()-1]\n",
    "        self.pq.pop()\n",
    "        self.__percolateDown()\n",
    "        return ele\n",
    "    \n",
    "pq = PriorityQueue()\n",
    "pq.insert(\"A\",10)\n",
    "pq.insert(\"C\",5)\n",
    "pq.insert(\"B\",19)\n",
    "pq.insert(\"D\",4)\n",
    "for i in range(4):\n",
    "    print(pq.removeMin())"
   ]
  },
  {
   "cell_type": "code",
   "execution_count": null,
   "id": "9bdb27a2",
   "metadata": {},
   "outputs": [],
   "source": []
  }
 ],
 "metadata": {
  "kernelspec": {
   "display_name": "Python 3 (ipykernel)",
   "language": "python",
   "name": "python3"
  },
  "language_info": {
   "codemirror_mode": {
    "name": "ipython",
    "version": 3
   },
   "file_extension": ".py",
   "mimetype": "text/x-python",
   "name": "python",
   "nbconvert_exporter": "python",
   "pygments_lexer": "ipython3",
   "version": "3.9.7"
  }
 },
 "nbformat": 4,
 "nbformat_minor": 5
}
