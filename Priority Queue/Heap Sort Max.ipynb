{
 "cells": [
  {
   "cell_type": "code",
   "execution_count": 3,
   "id": "ef926567",
   "metadata": {},
   "outputs": [
    {
     "name": "stdout",
     "output_type": "stream",
     "text": [
      "5 8 9 7 2 10 56\n",
      "[2, 5, 7, 8, 9, 10, 56]\n"
     ]
    }
   ],
   "source": [
    "def down_heapify(arr,i,n):\n",
    "    parentIndex = i\n",
    "    leftChildIndex = 2*parentIndex+1\n",
    "    rightChildIndex = 2*parentIndex+2\n",
    "    while leftChildIndex < n:\n",
    "        maxIndex = parentIndex\n",
    "        if arr[leftChildIndex]>arr[maxIndex]:\n",
    "            maxIndex = leftChildIndex\n",
    "        if rightChildIndex < n and arr[rightChildIndex]>arr[maxIndex]:\n",
    "            maxIndex = rightChildIndex\n",
    "        if maxIndex == parentIndex:\n",
    "            return\n",
    "        arr[maxIndex],arr[parentIndex]=arr[parentIndex],arr[maxIndex]\n",
    "        parentIndex = maxIndex\n",
    "        leftChildIndex = 2*parentIndex+1\n",
    "        rightChildIndex = 2*parentIndex+2\n",
    "    return \n",
    "\n",
    "def heapSort(arr):\n",
    "    # Build the Heap arr for given arr\n",
    "    n = len(arr)\n",
    "    for i in range(n//2-1,-1,-1):\n",
    "        down_heapify(arr,i,n)\n",
    "    \n",
    "    # Removing n ele from heap and put it into correct position\n",
    "    for i in range(n-1,0,-1):\n",
    "        arr[0],arr[i] = arr[i],arr[0]\n",
    "        down_heapify(arr,0,i)\n",
    "    return \n",
    "    \n",
    "arr = [int(ele) for ele in input().split()]\n",
    "heapSort(arr)\n",
    "print(arr)"
   ]
  }
 ],
 "metadata": {
  "kernelspec": {
   "display_name": "Python 3 (ipykernel)",
   "language": "python",
   "name": "python3"
  },
  "language_info": {
   "codemirror_mode": {
    "name": "ipython",
    "version": 3
   },
   "file_extension": ".py",
   "mimetype": "text/x-python",
   "name": "python",
   "nbconvert_exporter": "python",
   "pygments_lexer": "ipython3",
   "version": "3.9.7"
  }
 },
 "nbformat": 4,
 "nbformat_minor": 5
}
