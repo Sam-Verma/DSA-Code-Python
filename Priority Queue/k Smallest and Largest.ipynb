{
 "cells": [
  {
   "cell_type": "code",
   "execution_count": 4,
   "id": "dc4c15fc",
   "metadata": {},
   "outputs": [
    {
     "name": "stdout",
     "output_type": "stream",
     "text": [
      "[6, 2, 3, 1]\n"
     ]
    }
   ],
   "source": [
    "import heapq\n",
    "\n",
    "def kSmallest(arr,k):\n",
    "    heap = arr[:k]\n",
    "    heapq._heapify_max(heap)\n",
    "    n = len(arr)\n",
    "    for i in range(k,n):\n",
    "        if heap[0]>arr[i]:\n",
    "            heapq._heapreplace_max(heap,arr[i])\n",
    "    return heap\n",
    "\n",
    "arr = [10,6,7,2,3,8,9,11,1]\n",
    "k = 4\n",
    "element = kSmallest(arr,4)\n",
    "print(element)"
   ]
  },
  {
   "cell_type": "code",
   "execution_count": 5,
   "id": "51015746",
   "metadata": {},
   "outputs": [
    {
     "name": "stdout",
     "output_type": "stream",
     "text": [
      "[8, 10, 9, 11]\n"
     ]
    }
   ],
   "source": [
    "import heapq\n",
    "\n",
    "def kLargest(arr,k):\n",
    "    heap = arr[:k]\n",
    "    heapq.heapify(heap)\n",
    "    n = len(arr)\n",
    "    for i in range(k,n):\n",
    "        if heap[0]<arr[i]:\n",
    "            heapq.heapreplace(heap,arr[i])\n",
    "    return heap\n",
    "\n",
    "arr = [10,6,7,2,3,8,9,11,1]\n",
    "k = 4\n",
    "element = kLargest(arr,4)\n",
    "print(element)"
   ]
  },
  {
   "cell_type": "code",
   "execution_count": null,
   "id": "61243c5b",
   "metadata": {},
   "outputs": [],
   "source": []
  }
 ],
 "metadata": {
  "kernelspec": {
   "display_name": "Python 3 (ipykernel)",
   "language": "python",
   "name": "python3"
  },
  "language_info": {
   "codemirror_mode": {
    "name": "ipython",
    "version": 3
   },
   "file_extension": ".py",
   "mimetype": "text/x-python",
   "name": "python",
   "nbconvert_exporter": "python",
   "pygments_lexer": "ipython3",
   "version": "3.9.7"
  }
 },
 "nbformat": 4,
 "nbformat_minor": 5
}
