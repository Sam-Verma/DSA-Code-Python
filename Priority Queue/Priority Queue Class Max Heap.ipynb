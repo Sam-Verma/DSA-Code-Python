{
 "cells": [
  {
   "cell_type": "code",
   "execution_count": 11,
   "id": "31702c61",
   "metadata": {},
   "outputs": [
    {
     "name": "stdout",
     "output_type": "stream",
     "text": [
      "B\n",
      "D\n",
      "A\n",
      "C\n"
     ]
    }
   ],
   "source": [
    "class PriorityQueueNode:\n",
    "    def __init__(self,value,priority):\n",
    "        self.value = value\n",
    "        self.priority = priority\n",
    "\n",
    "class PriorityQueue:\n",
    "    \n",
    "    def __init__(self):\n",
    "        self.pq = []\n",
    "        \n",
    "    def getSize(self):\n",
    "        return len(self.pq)\n",
    "    \n",
    "    def isEmpty(self):\n",
    "        return self.getSize()==0\n",
    "    \n",
    "    def getMax(self):\n",
    "        if isEmpty() is True:\n",
    "            return -float('inf')\n",
    "        return self.pq[0]\n",
    "    \n",
    "    def __percolateUp(self):\n",
    "        childIndex = self.getSize()-1\n",
    "        while childIndex > 0:\n",
    "            parentIndex = (childIndex-1)//2\n",
    "            if self.pq[parentIndex].priority < self.pq[childIndex].priority:\n",
    "                self.pq[childIndex],self.pq[parentIndex] = self.pq[parentIndex],self.pq[childIndex]\n",
    "                childIndex = parentIndex\n",
    "            else:\n",
    "                break\n",
    "                \n",
    "    def insert(self,value,priority):\n",
    "        pqNode = PriorityQueueNode(value,priority)\n",
    "        self.pq.append(pqNode)\n",
    "        self.__percolateUp()\n",
    "    \n",
    "    def __percolateDown(self):\n",
    "        parentIndex = 0\n",
    "        leftChildIndex = 2*parentIndex+1 \n",
    "        rightChildIndex = 2*parentIndex+2\n",
    "        while leftChildIndex < self.getSize():\n",
    "            maxIndex = parentIndex\n",
    "            if self.pq[maxIndex].priority < self.pq[leftChildIndex].priority:\n",
    "                maxIndex = leftChildIndex\n",
    "            if rightChildIndex<self.getSize() and self.pq[maxIndex].priority < self.pq[rightChildIndex].priority:\n",
    "                maxIndex = rightChildIndex\n",
    "            if maxIndex == parentIndex:\n",
    "                break\n",
    "            parentIndex = maxIndex\n",
    "            leftChildIndex = 2*parentIndex+1 \n",
    "            rightChildIndex = 2*parentIndex+2\n",
    "            \n",
    "    def removeMax(self):\n",
    "        if self.isEmpty():\n",
    "            return -float('inf')\n",
    "        ele = self.pq[0].value\n",
    "        self.pq[0] = self.pq[self.getSize()-1]\n",
    "        self.pq.pop()\n",
    "        self.__percolateDown()\n",
    "        return ele\n",
    "\n",
    "pq = PriorityQueue()\n",
    "pq.insert(\"A\",10)\n",
    "pq.insert(\"C\",5)\n",
    "pq.insert(\"B\",19)\n",
    "pq.insert(\"D\",4)\n",
    "for i in range(4):\n",
    "    print(pq.removeMax())"
   ]
  },
  {
   "cell_type": "code",
   "execution_count": null,
   "id": "9ad60732",
   "metadata": {},
   "outputs": [],
   "source": []
  }
 ],
 "metadata": {
  "kernelspec": {
   "display_name": "Python 3 (ipykernel)",
   "language": "python",
   "name": "python3"
  },
  "language_info": {
   "codemirror_mode": {
    "name": "ipython",
    "version": 3
   },
   "file_extension": ".py",
   "mimetype": "text/x-python",
   "name": "python",
   "nbconvert_exporter": "python",
   "pygments_lexer": "ipython3",
   "version": "3.9.7"
  }
 },
 "nbformat": 4,
 "nbformat_minor": 5
}
