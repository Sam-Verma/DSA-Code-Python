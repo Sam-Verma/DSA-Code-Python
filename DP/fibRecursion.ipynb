{
 "cells": [
  {
   "cell_type": "code",
   "execution_count": 1,
   "id": "19866333",
   "metadata": {},
   "outputs": [
    {
     "name": "stdout",
     "output_type": "stream",
     "text": [
      "5\n",
      "5\n"
     ]
    }
   ],
   "source": [
    "def fibb(n,dp):\n",
    "    \n",
    "    if n==0 or n==1:\n",
    "        return n\n",
    "    \n",
    "    if dp[n-1]==-1:\n",
    "        ans1 = fibb(n-1,dp)\n",
    "        dp[n-1] = ans1\n",
    "    else:\n",
    "        ans1 = dp[n-1]\n",
    "    \n",
    "    if dp[n-2]==-1:\n",
    "        ans2 = fibb(n-2,dp)\n",
    "        dp[n-2] = ans2\n",
    "    else:\n",
    "        ans2 = dp[n-2]\n",
    "    \n",
    "    myAns = ans1 + ans2\n",
    "    return myAns\n",
    "\n",
    "n = int(input())\n",
    "dp = [-1 for i in range(n+1)]\n",
    "ans = fibb(n,dp)\n",
    "print(ans)"
   ]
  },
  {
   "cell_type": "code",
   "execution_count": null,
   "id": "75774b12",
   "metadata": {},
   "outputs": [],
   "source": []
  }
 ],
 "metadata": {
  "kernelspec": {
   "display_name": "Python 3 (ipykernel)",
   "language": "python",
   "name": "python3"
  },
  "language_info": {
   "codemirror_mode": {
    "name": "ipython",
    "version": 3
   },
   "file_extension": ".py",
   "mimetype": "text/x-python",
   "name": "python",
   "nbconvert_exporter": "python",
   "pygments_lexer": "ipython3",
   "version": "3.9.7"
  }
 },
 "nbformat": 4,
 "nbformat_minor": 5
}
