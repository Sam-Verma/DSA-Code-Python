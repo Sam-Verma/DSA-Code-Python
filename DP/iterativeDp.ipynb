{
 "cells": [
  {
   "cell_type": "code",
   "execution_count": 4,
   "id": "d21afce5",
   "metadata": {},
   "outputs": [
    {
     "name": "stdout",
     "output_type": "stream",
     "text": [
      "8\n"
     ]
    },
    {
     "data": {
      "text/plain": [
       "21"
      ]
     },
     "execution_count": 4,
     "metadata": {},
     "output_type": "execute_result"
    }
   ],
   "source": [
    "def fibbI(n):\n",
    "    \n",
    "    dp = [0 for i in range(n+1)]\n",
    "    dp[1] = 1\n",
    "    \n",
    "    i = 2 \n",
    "    while i<=n:\n",
    "        dp[i] = dp[i-1] + dp[i-2]\n",
    "        i+=1\n",
    "    return dp[n]\n",
    "\n",
    "n = int(input())\n",
    "fibbI(n)"
   ]
  },
  {
   "cell_type": "code",
   "execution_count": null,
   "id": "fd1552cf",
   "metadata": {},
   "outputs": [],
   "source": []
  }
 ],
 "metadata": {
  "kernelspec": {
   "display_name": "Python 3 (ipykernel)",
   "language": "python",
   "name": "python3"
  },
  "language_info": {
   "codemirror_mode": {
    "name": "ipython",
    "version": 3
   },
   "file_extension": ".py",
   "mimetype": "text/x-python",
   "name": "python",
   "nbconvert_exporter": "python",
   "pygments_lexer": "ipython3",
   "version": "3.9.7"
  }
 },
 "nbformat": 4,
 "nbformat_minor": 5
}
