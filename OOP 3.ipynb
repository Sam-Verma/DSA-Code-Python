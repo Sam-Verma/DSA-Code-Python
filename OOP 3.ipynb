{
 "cells": [
  {
   "cell_type": "code",
   "execution_count": 7,
   "id": "94eb7501",
   "metadata": {},
   "outputs": [],
   "source": [
    "from abc import ABC,abstractmethod\n",
    "\n",
    "class Automobile(ABC):\n",
    "    def __init__(self):\n",
    "        print(\"Automobile created\")\n",
    "    \n",
    "    @abstractmethod\n",
    "    def start(self):\n",
    "        print(\"Start\")\n",
    "    @abstractmethod\n",
    "    def stop(self):\n",
    "        pass\n",
    "    @abstractmethod\n",
    "    def drive(self):\n",
    "        pass"
   ]
  },
  {
   "cell_type": "code",
   "execution_count": 8,
   "id": "249b03b2",
   "metadata": {},
   "outputs": [],
   "source": [
    "class car(Automobile):\n",
    "    def __init__(self,name):\n",
    "        print(\"CAR Created\")\n",
    "        self.name=name\n",
    "        \n",
    "    def start(self):\n",
    "        super().start()\n",
    "        print(\"Start car\")\n",
    "    def stop(self):\n",
    "        pass\n",
    "    def drive(self):\n",
    "        pass"
   ]
  },
  {
   "cell_type": "code",
   "execution_count": null,
   "id": "7fec7a8e",
   "metadata": {},
   "outputs": [],
   "source": [
    "class Bike(Automobile):\n",
    "    def __init__(self):\n",
    "        print(\"Bike\")\n",
    "#1-Object of Abstract class cannot be created.\n",
    "#2-Implement all the abstract method in the child class."
   ]
  },
  {
   "cell_type": "code",
   "execution_count": 11,
   "id": "d4a87bcd",
   "metadata": {},
   "outputs": [
    {
     "name": "stdout",
     "output_type": "stream",
     "text": [
      "CAR Created\n",
      "Start\n",
      "Start car\n"
     ]
    }
   ],
   "source": [
    "c=car(\"Audi\")\n",
    "c.start()"
   ]
  },
  {
   "cell_type": "code",
   "execution_count": null,
   "id": "00be363b",
   "metadata": {},
   "outputs": [],
   "source": []
  }
 ],
 "metadata": {
  "kernelspec": {
   "display_name": "Python 3 (ipykernel)",
   "language": "python",
   "name": "python3"
  },
  "language_info": {
   "codemirror_mode": {
    "name": "ipython",
    "version": 3
   },
   "file_extension": ".py",
   "mimetype": "text/x-python",
   "name": "python",
   "nbconvert_exporter": "python",
   "pygments_lexer": "ipython3",
   "version": "3.9.7"
  }
 },
 "nbformat": 4,
 "nbformat_minor": 5
}
