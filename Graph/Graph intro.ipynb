{
 "cells": [
  {
   "cell_type": "code",
   "execution_count": 40,
   "id": "3b11995b",
   "metadata": {},
   "outputs": [
    {
     "data": {
      "text/plain": [
       "(5, 7)"
      ]
     },
     "execution_count": 40,
     "metadata": {},
     "output_type": "execute_result"
    }
   ],
   "source": [
    "n = 5\n",
    "edges = [(0,1),(1,2),(1,3),(1,4),(2,3),(3,4),(4,0)]\n",
    "m = len(edges)\n",
    "n,m"
   ]
  },
  {
   "cell_type": "code",
   "execution_count": 41,
   "id": "f6e7a635",
   "metadata": {},
   "outputs": [
    {
     "name": "stdout",
     "output_type": "stream",
     "text": [
      "v1: 0 v2: 1\n",
      "v1: 1 v2: 2\n",
      "v1: 1 v2: 3\n",
      "v1: 1 v2: 4\n",
      "v1: 2 v2: 3\n",
      "v1: 3 v2: 4\n",
      "v1: 4 v2: 0\n"
     ]
    }
   ],
   "source": [
    "for v1,v2 in edges:\n",
    "    print('v1:',v1,'v2:',v2)"
   ]
  },
  {
   "cell_type": "code",
   "execution_count": 42,
   "id": "ddec4a61",
   "metadata": {},
   "outputs": [
    {
     "data": {
      "text/plain": [
       "[[], [], [], [], []]"
      ]
     },
     "execution_count": 42,
     "metadata": {},
     "output_type": "execute_result"
    }
   ],
   "source": [
    "n_vertices = 5\n",
    "[[] for _ in range(n_vertices)]"
   ]
  },
  {
   "cell_type": "code",
   "execution_count": 64,
   "id": "8219c57b",
   "metadata": {},
   "outputs": [],
   "source": [
    "class Graph:\n",
    "    def __init__(self,n_vertices,edges):\n",
    "        #initialize a adjacency list \n",
    "        self.data = [[] for _ in range(n_vertices)]\n",
    "        #loop over edges\n",
    "        for v1,v2 in edges:\n",
    "            self.data[v1].append(v2)\n",
    "            self.data[v2].append(v1)\n",
    "            \n",
    "    #BFS\n",
    "    def bfsOfGraph(self):\n",
    "       \n",
    "        ans=[]\n",
    "        visited = [False]*n_vertices\n",
    "        q = []\n",
    "        q.append(0)\n",
    "        visited[0]=True\n",
    "        while len(q)!=0:\n",
    "            ele = q.pop(0)\n",
    "            ans.append(ele)\n",
    "            for i in self.data[ele]:\n",
    "                if visited[i]==False:\n",
    "                    q.append(i)\n",
    "                    visited[i]=True\n",
    "        return ans\n",
    "    \n",
    "    #DFS\n",
    "    def dfsHelper(self,sv,visited,ans):\n",
    "        \n",
    "        ans.append(sv)\n",
    "        visited[sv] = True\n",
    "        \n",
    "        for i in self.data[sv]:\n",
    "            if visited[i]==False:\n",
    "                self.dfsHelper(i,visited,ans)\n",
    "    \n",
    "    def dfsOfGraph(self):\n",
    "        \n",
    "        visited = [False for i in range(n_vertices)]\n",
    "        ans = []\n",
    "        \n",
    "        self.dfsHelper(0,visited,ans)\n",
    "        \n",
    "        return ans\n",
    "\n",
    "            \n",
    "    def __repr__(self):\n",
    "        res = ''\n",
    "        for i,nodes in enumerate(self.data):\n",
    "            res += str(i) + ':' + str(nodes) + '\\n'\n",
    "        return res\n",
    "    \n",
    "    def __str__(self):\n",
    "        self.__repr__()"
   ]
  },
  {
   "cell_type": "code",
   "execution_count": 65,
   "id": "ffc44f2c",
   "metadata": {},
   "outputs": [
    {
     "data": {
      "text/plain": [
       "[0, 1, 4, 2, 3]"
      ]
     },
     "execution_count": 65,
     "metadata": {},
     "output_type": "execute_result"
    }
   ],
   "source": [
    "graph = Graph(n,edges)\n",
    "graph.bfsOfGraph()"
   ]
  },
  {
   "cell_type": "code",
   "execution_count": 66,
   "id": "68b7564c",
   "metadata": {},
   "outputs": [
    {
     "data": {
      "text/plain": [
       "[0, 1, 2, 3, 4]"
      ]
     },
     "execution_count": 66,
     "metadata": {},
     "output_type": "execute_result"
    }
   ],
   "source": [
    "graph.dfsOfGraph()"
   ]
  },
  {
   "cell_type": "code",
   "execution_count": 62,
   "id": "3dde64f1",
   "metadata": {},
   "outputs": [
    {
     "data": {
      "text/plain": [
       "0:[1, 4]\n",
       "1:[0, 2, 3, 4]\n",
       "2:[1, 3]\n",
       "3:[1, 2, 4]\n",
       "4:[1, 3, 0]"
      ]
     },
     "execution_count": 62,
     "metadata": {},
     "output_type": "execute_result"
    }
   ],
   "source": [
    "graph"
   ]
  },
  {
   "cell_type": "code",
   "execution_count": 46,
   "id": "d8bd3974",
   "metadata": {},
   "outputs": [],
   "source": [
    "class GraphMatrix:\n",
    "    def __init__(self,n_vertices,edges):\n",
    "        #initialize a adjacency matrix\n",
    "        self.matrix = [[0 for _ in range(n_vertices)] for _ in range(n_vertices)]\n",
    "        #loop over edges\n",
    "        for v1,v2 in edges:\n",
    "            self.matrix[v1][v2]=1\n",
    "            self.matrix[v2][v1]=1   "
   ]
  },
  {
   "cell_type": "code",
   "execution_count": 47,
   "id": "e19e3372",
   "metadata": {},
   "outputs": [
    {
     "data": {
      "text/plain": [
       "[[0, 1, 0, 0, 1],\n",
       " [1, 0, 1, 1, 1],\n",
       " [0, 1, 0, 1, 0],\n",
       " [0, 1, 1, 0, 1],\n",
       " [1, 1, 0, 1, 0]]"
      ]
     },
     "execution_count": 47,
     "metadata": {},
     "output_type": "execute_result"
    }
   ],
   "source": [
    "graphmatrix = GraphMatrix(n,edges)\n",
    "graphmatrix.matrix"
   ]
  },
  {
   "cell_type": "code",
   "execution_count": 48,
   "id": "c66b9800",
   "metadata": {},
   "outputs": [
    {
     "ename": "NameError",
     "evalue": "name 'self' is not defined",
     "output_type": "error",
     "traceback": [
      "\u001b[1;31m---------------------------------------------------------------------------\u001b[0m",
      "\u001b[1;31mNameError\u001b[0m                                 Traceback (most recent call last)",
      "\u001b[1;32m~\\AppData\\Local\\Temp/ipykernel_25048/3473421301.py\u001b[0m in \u001b[0;36m<module>\u001b[1;34m\u001b[0m\n\u001b[0;32m     14\u001b[0m                     \u001b[0mvisited\u001b[0m\u001b[1;33m[\u001b[0m\u001b[0mi\u001b[0m\u001b[1;33m]\u001b[0m\u001b[1;33m=\u001b[0m\u001b[1;32mTrue\u001b[0m\u001b[1;33m\u001b[0m\u001b[1;33m\u001b[0m\u001b[0m\n\u001b[0;32m     15\u001b[0m         \u001b[1;32mreturn\u001b[0m \u001b[0mans\u001b[0m\u001b[1;33m\u001b[0m\u001b[1;33m\u001b[0m\u001b[0m\n\u001b[1;32m---> 16\u001b[1;33m \u001b[0mbfsOfGraph\u001b[0m\u001b[1;33m(\u001b[0m\u001b[0mn_vertices\u001b[0m\u001b[1;33m,\u001b[0m\u001b[0mself\u001b[0m\u001b[1;33m.\u001b[0m\u001b[0mdata\u001b[0m\u001b[1;33m)\u001b[0m\u001b[1;33m\u001b[0m\u001b[1;33m\u001b[0m\u001b[0m\n\u001b[0m",
      "\u001b[1;31mNameError\u001b[0m: name 'self' is not defined"
     ]
    }
   ],
   "source": [
    "def bfsOfGraph(v,adj):\n",
    "       \n",
    "        ans=[]\n",
    "        visited = [False]*V\n",
    "        q = []\n",
    "        q.append(0)\n",
    "        visited[0]=True\n",
    "        while len(q)!=0:\n",
    "            ele = q.pop(0)\n",
    "            ans.append(ele)\n",
    "            for i in adj[ele]:\n",
    "                if visited[i]==False:\n",
    "                    q.append(i)\n",
    "                    visited[i]=True\n",
    "        return ans\n",
    "bfsOfGraph(n_vertices,self.data)"
   ]
  },
  {
   "cell_type": "code",
   "execution_count": null,
   "id": "f731a6d8",
   "metadata": {},
   "outputs": [],
   "source": []
  }
 ],
 "metadata": {
  "kernelspec": {
   "display_name": "Python 3 (ipykernel)",
   "language": "python",
   "name": "python3"
  },
  "language_info": {
   "codemirror_mode": {
    "name": "ipython",
    "version": 3
   },
   "file_extension": ".py",
   "mimetype": "text/x-python",
   "name": "python",
   "nbconvert_exporter": "python",
   "pygments_lexer": "ipython3",
   "version": "3.9.7"
  }
 },
 "nbformat": 4,
 "nbformat_minor": 5
}
