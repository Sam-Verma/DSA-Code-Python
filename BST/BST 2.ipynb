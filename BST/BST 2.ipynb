{
 "cells": [
  {
   "cell_type": "code",
   "execution_count": 1,
   "id": "09f00ada",
   "metadata": {},
   "outputs": [],
   "source": [
    "class BST:\n",
    "    def __init__(self,data):\n",
    "        self.data = data\n",
    "        self.left = None\n",
    "        self.right = None"
   ]
  },
  {
   "cell_type": "code",
   "execution_count": 2,
   "id": "3c93e0ea",
   "metadata": {},
   "outputs": [],
   "source": [
    "from queue import Queue \n",
    "def levelwiseBSTinput():\n",
    "    q = Queue()\n",
    "    rootdata = int(input(\"Enter root\"))\n",
    "    if rootdata == -1:\n",
    "        return None\n",
    "    root = BST(rootdata)\n",
    "    q.put(root)\n",
    "    while (not(q.empty())):\n",
    "        curr_node = q.get()\n",
    "        print(\"Enter left child of:\",curr_node.data)\n",
    "        leftChilddata = int(input())\n",
    "        if leftChilddata!=-1:\n",
    "            leftChild = BST(leftChilddata)\n",
    "            curr_node.left = leftChild\n",
    "            q.put(leftChild)\n",
    "        print(\"Enter right child of:\",curr_node.data)\n",
    "        rightChilddata = int(input())\n",
    "        if rightChilddata!=-1:\n",
    "            rightChild = BST(rightChilddata)\n",
    "            curr_node.right = rightChild\n",
    "            q.put(rightChild)\n",
    "    return root"
   ]
  },
  {
   "cell_type": "code",
   "execution_count": 3,
   "id": "baff0c90",
   "metadata": {},
   "outputs": [],
   "source": [
    "import queue\n",
    "def levelwiseprint(root):\n",
    "    q = queue.Queue()\n",
    "    if root is None:\n",
    "        print(\"Tree is Empty\")\n",
    "        return\n",
    "    q.put(root)\n",
    "    while not(q.empty()):\n",
    "        curr_root = q.get()\n",
    "        print(curr_root.data, end=\":\")\n",
    "        if curr_root.left is not None:\n",
    "            print(\"L\",curr_root.left.data,end=\",\")\n",
    "            q.put(curr_root.left)\n",
    "        else:\n",
    "            print(-1)\n",
    "        if curr_root.right is not None:\n",
    "            print(\"R\",curr_root.right.data,end=\",\")\n",
    "            q.put(curr_root.right)\n",
    "        else:\n",
    "            print(-1)\n",
    "        print()"
   ]
  },
  {
   "cell_type": "code",
   "execution_count": 6,
   "id": "0816d486",
   "metadata": {},
   "outputs": [],
   "source": [
    "def nodetoRootPath(root,s):\n",
    "    if root == None:\n",
    "        return None\n",
    "    if root.data == s:\n",
    "        l = []\n",
    "        l.append(root.data)\n",
    "        return l\n",
    "    leftTree = nodetoRootPath(root.left,s)\n",
    "    if leftTree!=None:\n",
    "        leftTree.append(root.data)\n",
    "        return leftTree\n",
    "    rightTree = nodetoRootPath(root.right,s)\n",
    "    if rightTree!=None:\n",
    "        rightTree.append(root.data)\n",
    "        return rightTree\n",
    "    else:\n",
    "        return None"
   ]
  },
  {
   "cell_type": "code",
   "execution_count": 7,
   "id": "3bc1987e",
   "metadata": {},
   "outputs": [
    {
     "name": "stdout",
     "output_type": "stream",
     "text": [
      "Enter root1\n",
      "Enter left child of: 1\n",
      "2\n",
      "Enter right child of: 1\n",
      "3\n",
      "Enter left child of: 2\n",
      "-1\n",
      "Enter right child of: 2\n",
      "-1\n",
      "Enter left child of: 3\n",
      "5\n",
      "Enter right child of: 3\n",
      "-1\n",
      "Enter left child of: 5\n",
      "-1\n",
      "Enter right child of: 5\n",
      "-1\n"
     ]
    },
    {
     "data": {
      "text/plain": [
       "[5, 3, 1]"
      ]
     },
     "execution_count": 7,
     "metadata": {},
     "output_type": "execute_result"
    }
   ],
   "source": [
    "root = levelwiseBSTinput()\n",
    "nodetoRootPath(root,5)"
   ]
  },
  {
   "cell_type": "code",
   "execution_count": null,
   "id": "22a2eaad",
   "metadata": {},
   "outputs": [],
   "source": []
  }
 ],
 "metadata": {
  "kernelspec": {
   "display_name": "Python 3 (ipykernel)",
   "language": "python",
   "name": "python3"
  },
  "language_info": {
   "codemirror_mode": {
    "name": "ipython",
    "version": 3
   },
   "file_extension": ".py",
   "mimetype": "text/x-python",
   "name": "python",
   "nbconvert_exporter": "python",
   "pygments_lexer": "ipython3",
   "version": "3.9.7"
  }
 },
 "nbformat": 4,
 "nbformat_minor": 5
}
