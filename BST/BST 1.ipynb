{
 "cells": [
  {
   "cell_type": "code",
   "execution_count": null,
   "id": "abe072bf",
   "metadata": {},
   "outputs": [],
   "source": [
    "class BinaryTreeNode():\n",
    "    def __init__(self,data):\n",
    "        self.data=data\n",
    "        self.left=None\n",
    "        self.right=None"
   ]
  },
  {
   "cell_type": "code",
   "execution_count": 12,
   "id": "a80f7057",
   "metadata": {},
   "outputs": [],
   "source": [
    "import queue\n",
    "def takeLevelWiseTreeInput():\n",
    "    q = queue.Queue()\n",
    "    rootData = int(input(\"Enter root\"))\n",
    "    if rootData == -1:\n",
    "        return None\n",
    "    root = BinaryTreeNode(rootData)\n",
    "    q.put(root)\n",
    "    while (not(q.empty())):\n",
    "        curr_node = q.get()\n",
    "        print(\"Enter left child:\",curr_node.data)\n",
    "        leftchildData = int(input())\n",
    "        if leftchildData != -1:\n",
    "            leftChild = BinaryTreeNode(leftchildData)\n",
    "            curr_node.left = leftChild\n",
    "            q.put(leftChild)\n",
    "        print(\"Enter right child:\",curr_node.data)\n",
    "        rightchildData = int(input())\n",
    "        if rightchildData != -1:\n",
    "            rightChild = BinaryTreeNode(rightchildData)\n",
    "            curr_node.right = rightChild\n",
    "            q.put(rightChild)\n",
    "    return root"
   ]
  },
  {
   "cell_type": "code",
   "execution_count": null,
   "id": "e59ea8e2",
   "metadata": {},
   "outputs": [],
   "source": [
    "def printTreeDetailed(root):\n",
    "    if root == None:\n",
    "        return\n",
    "    print(root.data, end=\":\")\n",
    "    if root.left != None:\n",
    "        print(\"L\",root.left.data,end=\",\")\n",
    "    if root.right != None:\n",
    "        print(\"R\",root.right.data,end=\"\")\n",
    "    print()\n",
    "    printTreeDetailed(root.left)\n",
    "    printTreeDetailed(root.right)"
   ]
  },
  {
   "cell_type": "code",
   "execution_count": 14,
   "id": "ff208774",
   "metadata": {},
   "outputs": [],
   "source": [
    "def search(root,x):\n",
    "    if root == None:\n",
    "        return False\n",
    "    if root.data == x:\n",
    "        return True\n",
    "    elif root.data > x:\n",
    "        return search(root.left,x)\n",
    "    else:\n",
    "        return search(root.right,x)\n",
    "    "
   ]
  },
  {
   "cell_type": "code",
   "execution_count": 15,
   "id": "2b22c11b",
   "metadata": {},
   "outputs": [
    {
     "name": "stdout",
     "output_type": "stream",
     "text": [
      "Enter root4\n",
      "Enter left child: 4\n",
      "2\n",
      "Enter right child: 4\n",
      "6\n",
      "Enter left child: 2\n",
      "1\n",
      "Enter right child: 2\n",
      "3\n",
      "Enter left child: 6\n",
      "5\n",
      "Enter right child: 6\n",
      "7\n",
      "Enter left child: 1\n",
      "-1\n",
      "Enter right child: 1\n",
      "-1\n",
      "Enter left child: 3\n",
      "-1\n",
      "Enter right child: 3\n",
      "-1\n",
      "Enter left child: 5\n",
      "-1\n",
      "Enter right child: 5\n",
      "-1\n",
      "Enter left child: 7\n",
      "-1\n",
      "Enter right child: 7\n",
      "-1\n",
      "4:L 2,R 6\n",
      "2:L 1,R 3\n",
      "1:\n",
      "3:\n",
      "6:L 5,R 7\n",
      "5:\n",
      "7:\n"
     ]
    },
    {
     "data": {
      "text/plain": [
       "True"
      ]
     },
     "execution_count": 15,
     "metadata": {},
     "output_type": "execute_result"
    }
   ],
   "source": [
    "root = takeLevelWiseTreeInput() \n",
    "printTreeDetailed(root)\n",
    "search(root,5)"
   ]
  },
  {
   "cell_type": "code",
   "execution_count": 1,
   "id": "2f0577b0",
   "metadata": {},
   "outputs": [],
   "source": [
    "def printBetweenk1k2(root,k1,k2):\n",
    "    if root == None:\n",
    "        return \n",
    "    if root.data < k1:\n",
    "        printBetweenk1k2(root.right,k1,k2)\n",
    "    elif root.data > k2:\n",
    "        printBetweenk1k2(root.left,k1,k2)\n",
    "    else:\n",
    "        print(root.data)\n",
    "        printBetweenk1k2(root.left,k1,k2)\n",
    "        printBetweenk1k2(root.right,k1,k2)"
   ]
  },
  {
   "cell_type": "code",
   "execution_count": 2,
   "id": "52d17dd8",
   "metadata": {},
   "outputs": [
    {
     "ename": "NameError",
     "evalue": "name 'takeLevelWiseTreeInput' is not defined",
     "output_type": "error",
     "traceback": [
      "\u001b[1;31m---------------------------------------------------------------------------\u001b[0m",
      "\u001b[1;31mNameError\u001b[0m                                 Traceback (most recent call last)",
      "\u001b[1;32m~\\AppData\\Local\\Temp/ipykernel_20876/1631219766.py\u001b[0m in \u001b[0;36m<module>\u001b[1;34m\u001b[0m\n\u001b[1;32m----> 1\u001b[1;33m \u001b[0mroot\u001b[0m \u001b[1;33m=\u001b[0m \u001b[0mtakeLevelWiseTreeInput\u001b[0m\u001b[1;33m(\u001b[0m\u001b[1;33m)\u001b[0m\u001b[1;33m\u001b[0m\u001b[1;33m\u001b[0m\u001b[0m\n\u001b[0m\u001b[0;32m      2\u001b[0m \u001b[0mprintTreeDetailed\u001b[0m\u001b[1;33m(\u001b[0m\u001b[0mroot\u001b[0m\u001b[1;33m)\u001b[0m\u001b[1;33m\u001b[0m\u001b[1;33m\u001b[0m\u001b[0m\n\u001b[0;32m      3\u001b[0m \u001b[0mprintBetweenk1k2\u001b[0m\u001b[1;33m(\u001b[0m\u001b[0mroot\u001b[0m\u001b[1;33m,\u001b[0m\u001b[1;36m5\u001b[0m\u001b[1;33m,\u001b[0m\u001b[1;36m10\u001b[0m\u001b[1;33m)\u001b[0m\u001b[1;33m\u001b[0m\u001b[1;33m\u001b[0m\u001b[0m\n",
      "\u001b[1;31mNameError\u001b[0m: name 'takeLevelWiseTreeInput' is not defined"
     ]
    }
   ],
   "source": [
    "root = takeLevelWiseTreeInput() \n",
    "printTreeDetailed(root)\n",
    "printBetweenk1k2(root,5,10)"
   ]
  },
  {
   "cell_type": "code",
   "execution_count": 21,
   "id": "fb21ca79",
   "metadata": {},
   "outputs": [],
   "source": [
    "def ArraytoBST(arr):\n",
    "    if len(arr) == 0:\n",
    "        return None\n",
    "    mid = len(arr)//2\n",
    "    root = BinaryTreeNode(arr[mid])\n",
    "    leftsubtree = ArraytoBST(arr[0:mid])\n",
    "    rightsubtree = ArraytoBST(arr[mid+1:])\n",
    "    root.left = leftsubtree\n",
    "    root.right = rightsubtree\n",
    "    return root"
   ]
  },
  {
   "cell_type": "code",
   "execution_count": 22,
   "id": "bf0ebdfe",
   "metadata": {},
   "outputs": [
    {
     "name": "stdout",
     "output_type": "stream",
     "text": [
      "4:L 2,R 6\n",
      "2:L 1,R 3\n",
      "1:\n",
      "3:\n",
      "6:L 5,R 7\n",
      "5:\n",
      "7:\n"
     ]
    }
   ],
   "source": [
    "arr = [1,2,3,4,5,6,7]\n",
    "root = ArraytoBST(arr)\n",
    "printTreeDetailed(root)"
   ]
  },
  {
   "cell_type": "code",
   "execution_count": null,
   "id": "7de9b042",
   "metadata": {},
   "outputs": [],
   "source": [
    "def minTree(root):\n",
    "    if root == None:\n",
    "        return 10000\n",
    "    leftMin = minTree(root.left)\n",
    "    rightMin = minTree(root.right)\n",
    "    return min(leftMin,rightMin,root.data)\n",
    "\n",
    "def maxTree(root):\n",
    "    if root == None:\n",
    "        return -10000\n",
    "    leftMax = maxTree(root.left)\n",
    "    rightMax = maxTree(root.right)\n",
    "    return max(leftMax,rightMax,root.data)\n",
    "\n",
    "def isBST(root):\n",
    "    if root == None:\n",
    "        return True\n",
    "    leftmax = maxTree(root.left)\n",
    "    rightmin = minTree(root.right)\n",
    "    if root.data > rightmin or root.data <= leftmax:\n",
    "        return False\n",
    "    \n",
    "    isleftBST = isBST(root.left)\n",
    "    isrightBST = isBST(root.right)\n",
    "    return isleftBST and isrightBST"
   ]
  },
  {
   "cell_type": "code",
   "execution_count": 2,
   "id": "c772bf27",
   "metadata": {},
   "outputs": [],
   "source": [
    "def isBST2(root):\n",
    "    if root == None:\n",
    "        return 10000, -10000, True\n",
    "    leftMin, leftMax, isleftBST = isBST2(root.left)\n",
    "    rightMin, rightMax, isrightBST = isBST2(root.right)\n",
    "    \n",
    "    minimum = min(leftMin, rightMin, root.data)\n",
    "    maximun = max(leftMax, rightMax, root.data)\n",
    "    isTreeBST = True\n",
    "    if root.data < leftMax or root.data >= rightMin:\n",
    "        isTreeBST = False\n",
    "    if not(isleftBST) or not(isrightBST):\n",
    "        isTreeBST = False\n",
    "    \n",
    "    return minimum, maximun, isTreeBST"
   ]
  },
  {
   "cell_type": "code",
   "execution_count": 3,
   "id": "60ed9034",
   "metadata": {},
   "outputs": [],
   "source": [
    "def isBST3(root, min_range, max_range):\n",
    "    if root == None:\n",
    "        return True\n",
    "    \n",
    "    if root.data < min_range or root.data > max_range:\n",
    "        return False\n",
    "    \n",
    "    isleftWithinConstraints = isBST3(root.left, min_range, root.data-1)\n",
    "    isrightWithinConstraints = isBST3(root.right, root.data, max_range)\n",
    "    return isleftWithinConstraints and isrightWithinConstraints"
   ]
  },
  {
   "cell_type": "code",
   "execution_count": null,
   "id": "ec116501",
   "metadata": {},
   "outputs": [],
   "source": [
    "isBST3(root, -10000, 10000)"
   ]
  }
 ],
 "metadata": {
  "kernelspec": {
   "display_name": "Python 3 (ipykernel)",
   "language": "python",
   "name": "python3"
  },
  "language_info": {
   "codemirror_mode": {
    "name": "ipython",
    "version": 3
   },
   "file_extension": ".py",
   "mimetype": "text/x-python",
   "name": "python",
   "nbconvert_exporter": "python",
   "pygments_lexer": "ipython3",
   "version": "3.9.7"
  }
 },
 "nbformat": 4,
 "nbformat_minor": 5
}
