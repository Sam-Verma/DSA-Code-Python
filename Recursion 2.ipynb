{
 "cells": [
  {
   "cell_type": "code",
   "execution_count": 2,
   "id": "202e0c66",
   "metadata": {},
   "outputs": [],
   "source": [
    "#Replace Char in String\n",
    "def replaceChar(s,a,b):\n",
    "    if len(s)==0:\n",
    "        return s\n",
    "    small=replaceChar(s[1:],a,b)\n",
    "    if s[0]==a:\n",
    "        return b + small\n",
    "    else:\n",
    "        return s[0] + small\n",
    "        "
   ]
  },
  {
   "cell_type": "code",
   "execution_count": 4,
   "id": "ac8bc688",
   "metadata": {},
   "outputs": [
    {
     "data": {
      "text/plain": [
       "'sbm'"
      ]
     },
     "execution_count": 4,
     "metadata": {},
     "output_type": "execute_result"
    }
   ],
   "source": [
    "replaceChar('sam','a','b')"
   ]
  },
  {
   "cell_type": "code",
   "execution_count": 5,
   "id": "daa1a871",
   "metadata": {},
   "outputs": [],
   "source": [
    "#Remove Char in String\n",
    "def removeChar(s,x):\n",
    "    if len(s)==0:\n",
    "        return s\n",
    "    small=removeChar(s[1:],x)\n",
    "    if s[0]==x:\n",
    "        return small\n",
    "    else:\n",
    "        return s[0]+small"
   ]
  },
  {
   "cell_type": "code",
   "execution_count": 8,
   "id": "33554d8c",
   "metadata": {},
   "outputs": [
    {
     "data": {
      "text/plain": [
       "'Shiva'"
      ]
     },
     "execution_count": 8,
     "metadata": {},
     "output_type": "execute_result"
    }
   ],
   "source": [
    "removeChar('Shivam','m')"
   ]
  },
  {
   "cell_type": "code",
   "execution_count": 34,
   "id": "593d2ff4",
   "metadata": {},
   "outputs": [],
   "source": [
    "#Replace pi in String\n",
    "def replacepi(s):\n",
    "    if len(s)==0 or len(s)==1:\n",
    "        return s\n",
    "    \n",
    "    if s[0]=='p' and s[1]=='i':\n",
    "        small=replacepi(s[2:])\n",
    "        return '3.14' + small\n",
    "    else:\n",
    "        small=replacepi(s[1:])\n",
    "        return s[0] + small\n",
    "        "
   ]
  },
  {
   "cell_type": "code",
   "execution_count": 35,
   "id": "0f290fca",
   "metadata": {},
   "outputs": [
    {
     "data": {
      "text/plain": [
       "'xyz3.14sam3.14'"
      ]
     },
     "execution_count": 35,
     "metadata": {},
     "output_type": "execute_result"
    }
   ],
   "source": [
    "replacepi('xyzpisampi')"
   ]
  },
  {
   "cell_type": "code",
   "execution_count": 40,
   "id": "49a5836e",
   "metadata": {},
   "outputs": [],
   "source": [
    "#Replace duplicate in String\n",
    "def duplicate(s):\n",
    "    if len(s)==0 or len(s)==1:\n",
    "        return s\n",
    "    \n",
    "    if s[0]=='a' and s[1]=='a':\n",
    "        small=duplicate(s[2:])\n",
    "        return small\n",
    "    else:\n",
    "        small=duplicate(s[1:])\n",
    "        return s[0] + small\n",
    "        "
   ]
  },
  {
   "cell_type": "code",
   "execution_count": 41,
   "id": "ec06bc12",
   "metadata": {},
   "outputs": [
    {
     "data": {
      "text/plain": [
       "'jbjjioibj'"
      ]
     },
     "execution_count": 41,
     "metadata": {},
     "output_type": "execute_result"
    }
   ],
   "source": [
    "duplicate('jbjaajioiaabjaa')"
   ]
  },
  {
   "cell_type": "code",
   "execution_count": 22,
   "id": "d7f9bf68",
   "metadata": {},
   "outputs": [
    {
     "name": "stdout",
     "output_type": "stream",
     "text": [
      "58\n"
     ]
    },
    {
     "data": {
      "text/plain": [
       "8"
      ]
     },
     "execution_count": 22,
     "metadata": {},
     "output_type": "execute_result"
    }
   ],
   "source": [
    "#Binary Search\n",
    "def binarysearch(arr,ele,start,end):\n",
    "    mid=start+(end-start)//2\n",
    "    if len(arr)==0:\n",
    "        return -1\n",
    "    elif arr[mid]==ele:\n",
    "        return mid\n",
    "    elif arr[mid]>ele:\n",
    "        return binarysearch(arr,ele,start,mid-1)\n",
    "    else:\n",
    "        return binarysearch(arr,ele,mid+1,end)\n",
    "\n",
    "n=int(input())\n",
    "arr=[1,4,5,7,8,9,12,36,58,78,98]\n",
    "binarysearch(arr,n,0,len(arr)-1)\n"
   ]
  },
  {
   "cell_type": "code",
   "execution_count": 2,
   "id": "666d98da",
   "metadata": {},
   "outputs": [
    {
     "ename": "IndentationError",
     "evalue": "unexpected indent (Temp/ipykernel_5304/1507802029.py, line 16)",
     "output_type": "error",
     "traceback": [
      "\u001b[1;36m  File \u001b[1;32m\"C:\\Users\\samve\\AppData\\Local\\Temp/ipykernel_5304/1507802029.py\"\u001b[1;36m, line \u001b[1;32m16\u001b[0m\n\u001b[1;33m    i+=1\u001b[0m\n\u001b[1;37m    ^\u001b[0m\n\u001b[1;31mIndentationError\u001b[0m\u001b[1;31m:\u001b[0m unexpected indent\n"
     ]
    }
   ],
   "source": [
    "#Merge\n",
    "def merge(a1,a2,a):\n",
    "    i=0\n",
    "    j=0\n",
    "    k=0\n",
    "    while i<len(a) and j<len(a):\n",
    "        if a1[i]<a2[j]:\n",
    "            a[k]=a1[i]\n",
    "            i+=1\n",
    "        else:\n",
    "            a[k]=a1[j]\n",
    "            j+=1\n",
    "        k+=1\n",
    "    while i<len(a1):\n",
    "        a[k]=a1[i]\n",
    "            i+=1\n",
    "            k+=1\n",
    "    while j<len(a2):\n",
    "        a[k]=a1[j]\n",
    "            j+=1\n",
    "            k+=1"
   ]
  },
  {
   "cell_type": "code",
   "execution_count": null,
   "id": "22323392",
   "metadata": {},
   "outputs": [],
   "source": [
    "#Merge Sort\n",
    "def mergesort(a):\n",
    "    if len(a)==0 and len(a)==1:\n",
    "        return a\n",
    "    mid=len(a)//2\n",
    "    a1=a[:mid]\n",
    "    a2=a[mid:]\n",
    "    \n",
    "    mergesort(a1)\n",
    "    mergesort(a2)\n",
    "    \n",
    "    merge(a1,a2,a)\n",
    "    \n",
    "a=[2,6,7,3,9,21,89,3,49,23,4]\n",
    "mergesort(a)"
   ]
  },
  {
   "cell_type": "code",
   "execution_count": 15,
   "id": "031ec570",
   "metadata": {},
   "outputs": [],
   "source": [
    "def partition(a,si,ei):\n",
    "    pivot = a[si]\n",
    "    #find no of element smaller than pivot\n",
    "    c=0\n",
    "    for i in range(si,ei+1):\n",
    "        if a[i]<pivot:\n",
    "            c=c+1\n",
    "    a[si+c],a[si]=a[si],a[si+c]\n",
    "    pivot_index=si + c\n",
    "    \n",
    "    i=si\n",
    "    j=ei\n",
    "    while i<j:\n",
    "        if a[i]<pivot:\n",
    "            i=i+1\n",
    "        elif a[j]>=pivot:\n",
    "            j=j-1\n",
    "        else:\n",
    "            a[i],a[j]=a[j],a[i]\n",
    "            i+=1\n",
    "            j-=1\n",
    "    return pivot_index\n",
    "    "
   ]
  },
  {
   "cell_type": "code",
   "execution_count": 14,
   "id": "5782b9c4",
   "metadata": {},
   "outputs": [],
   "source": [
    "#Quick Sort\n",
    "def quicksort(a,si,ei):\n",
    "    if si>=ei:\n",
    "        return \n",
    "    pivot_index=partition(a,si,ei)\n",
    "    quicksort(a,si,pivot_index - 1)\n",
    "    quicksort(a,pivot_index+1,ei)\n",
    "    \n",
    "\n",
    "\n",
    "    "
   ]
  },
  {
   "cell_type": "code",
   "execution_count": 26,
   "id": "3154a091",
   "metadata": {},
   "outputs": [
    {
     "name": "stdout",
     "output_type": "stream",
     "text": [
      "3\n",
      "[4, 3, 9, 10, 89, 49, 23, 21]\n",
      "[3, 4, 9, 10, 21, 23, 49, 89]\n"
     ]
    }
   ],
   "source": [
    "a=[10,3,9,21,89,49,23,4]\n",
    "si=0\n",
    "ei=len(a)-1\n",
    "print(partition(a,si,ei))\n",
    "print(a)\n",
    "quicksort(a,si,ei)\n",
    "print(a)"
   ]
  },
  {
   "cell_type": "code",
   "execution_count": 32,
   "id": "2fd92b5a",
   "metadata": {},
   "outputs": [
    {
     "name": "stdout",
     "output_type": "stream",
     "text": [
      "Move 1st disk from s  to  d\n",
      "Move 2 th disk from s to h\n",
      "Move 1st disk from d  to  h\n",
      "Move 3 th disk from s to d\n",
      "Move 1st disk from h  to  s\n",
      "Move 2 th disk from h to d\n",
      "Move 1st disk from s  to  d\n"
     ]
    }
   ],
   "source": [
    "#Tower of Hanoi\n",
    "def tower_hanoi(n,a,b,c):\n",
    "    if n==1:\n",
    "        print(\"Move 1st disk from\",a,\" to \",c)\n",
    "        return\n",
    "    tower_hanoi(n-1,a,c,b)\n",
    "    print(\"Move\",n,\"th disk from\",a,'to',c)\n",
    "    tower_hanoi(n-1,b,a,c)\n",
    "    \n",
    "tower_hanoi(3,'s','h','d')"
   ]
  },
  {
   "cell_type": "code",
   "execution_count": null,
   "id": "eab3416f",
   "metadata": {},
   "outputs": [],
   "source": []
  }
 ],
 "metadata": {
  "kernelspec": {
   "display_name": "Python 3 (ipykernel)",
   "language": "python",
   "name": "python3"
  },
  "language_info": {
   "codemirror_mode": {
    "name": "ipython",
    "version": 3
   },
   "file_extension": ".py",
   "mimetype": "text/x-python",
   "name": "python",
   "nbconvert_exporter": "python",
   "pygments_lexer": "ipython3",
   "version": "3.9.7"
  }
 },
 "nbformat": 4,
 "nbformat_minor": 5
}
